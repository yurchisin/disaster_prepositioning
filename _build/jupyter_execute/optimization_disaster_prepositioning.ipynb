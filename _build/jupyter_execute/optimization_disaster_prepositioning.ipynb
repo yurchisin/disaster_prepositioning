{
 "cells": [
  {
   "cell_type": "code",
   "execution_count": 1,
   "metadata": {},
   "outputs": [],
   "source": [
    "import pandas as pd"
   ]
  },
  {
   "cell_type": "code",
   "execution_count": 2,
   "metadata": {},
   "outputs": [
    {
     "data": {
      "text/html": [
       "<div>\n",
       "<style scoped>\n",
       "    .dataframe tbody tr th:only-of-type {\n",
       "        vertical-align: middle;\n",
       "    }\n",
       "\n",
       "    .dataframe tbody tr th {\n",
       "        vertical-align: top;\n",
       "    }\n",
       "\n",
       "    .dataframe thead th {\n",
       "        text-align: right;\n",
       "    }\n",
       "</style>\n",
       "<table border=\"1\" class=\"dataframe\">\n",
       "  <thead>\n",
       "    <tr style=\"text-align: right;\">\n",
       "      <th></th>\n",
       "      <th>depotCity</th>\n",
       "      <th>drivingTime_hrs</th>\n",
       "      <th>Buckets</th>\n",
       "    </tr>\n",
       "  </thead>\n",
       "  <tbody>\n",
       "    <tr>\n",
       "      <th>0</th>\n",
       "      <td>Ambanja</td>\n",
       "      <td>14.00</td>\n",
       "      <td>375</td>\n",
       "    </tr>\n",
       "    <tr>\n",
       "      <th>1</th>\n",
       "      <td>Ambatondrazaka</td>\n",
       "      <td>0.00</td>\n",
       "      <td>26</td>\n",
       "    </tr>\n",
       "    <tr>\n",
       "      <th>2</th>\n",
       "      <td>Ambositra</td>\n",
       "      <td>11.00</td>\n",
       "      <td>41</td>\n",
       "    </tr>\n",
       "    <tr>\n",
       "      <th>3</th>\n",
       "      <td>Ambovombe</td>\n",
       "      <td>26.00</td>\n",
       "      <td>2322</td>\n",
       "    </tr>\n",
       "    <tr>\n",
       "      <th>4</th>\n",
       "      <td>Antananarivo Renivohitra</td>\n",
       "      <td>6.00</td>\n",
       "      <td>9046</td>\n",
       "    </tr>\n",
       "    <tr>\n",
       "      <th>5</th>\n",
       "      <td>Antsohihy</td>\n",
       "      <td>10.00</td>\n",
       "      <td>610</td>\n",
       "    </tr>\n",
       "    <tr>\n",
       "      <th>6</th>\n",
       "      <td>Farafangana</td>\n",
       "      <td>19.00</td>\n",
       "      <td>5201</td>\n",
       "    </tr>\n",
       "    <tr>\n",
       "      <th>7</th>\n",
       "      <td>Fenerive Est</td>\n",
       "      <td>11.00</td>\n",
       "      <td>6689</td>\n",
       "    </tr>\n",
       "    <tr>\n",
       "      <th>8</th>\n",
       "      <td>Mahajanga I</td>\n",
       "      <td>16.00</td>\n",
       "      <td>150</td>\n",
       "    </tr>\n",
       "    <tr>\n",
       "      <th>9</th>\n",
       "      <td>Maintirano</td>\n",
       "      <td>14.25</td>\n",
       "      <td>2460</td>\n",
       "    </tr>\n",
       "    <tr>\n",
       "      <th>10</th>\n",
       "      <td>Manakara</td>\n",
       "      <td>17.00</td>\n",
       "      <td>4235</td>\n",
       "    </tr>\n",
       "    <tr>\n",
       "      <th>11</th>\n",
       "      <td>Miarinarivo</td>\n",
       "      <td>7.00</td>\n",
       "      <td>3</td>\n",
       "    </tr>\n",
       "    <tr>\n",
       "      <th>12</th>\n",
       "      <td>Morondava</td>\n",
       "      <td>16.00</td>\n",
       "      <td>736</td>\n",
       "    </tr>\n",
       "    <tr>\n",
       "      <th>13</th>\n",
       "      <td>Sambava</td>\n",
       "      <td>23.00</td>\n",
       "      <td>5700</td>\n",
       "    </tr>\n",
       "    <tr>\n",
       "      <th>14</th>\n",
       "      <td>Toamasina I</td>\n",
       "      <td>8.00</td>\n",
       "      <td>1580</td>\n",
       "    </tr>\n",
       "    <tr>\n",
       "      <th>15</th>\n",
       "      <td>Toliara</td>\n",
       "      <td>22.00</td>\n",
       "      <td>1637</td>\n",
       "    </tr>\n",
       "  </tbody>\n",
       "</table>\n",
       "</div>"
      ],
      "text/plain": [
       "                   depotCity  drivingTime_hrs  Buckets\n",
       "0                    Ambanja            14.00      375\n",
       "1             Ambatondrazaka             0.00       26\n",
       "2                  Ambositra            11.00       41\n",
       "3                  Ambovombe            26.00     2322\n",
       "4   Antananarivo Renivohitra             6.00     9046\n",
       "5                  Antsohihy            10.00      610\n",
       "6                Farafangana            19.00     5201\n",
       "7               Fenerive Est            11.00     6689\n",
       "8                Mahajanga I            16.00      150\n",
       "9                 Maintirano            14.25     2460\n",
       "10                  Manakara            17.00     4235\n",
       "11               Miarinarivo             7.00        3\n",
       "12                 Morondava            16.00      736\n",
       "13                   Sambava            23.00     5700\n",
       "14               Toamasina I             8.00     1580\n",
       "15                   Toliara            22.00     1637"
      ]
     },
     "execution_count": 2,
     "metadata": {},
     "output_type": "execute_result"
    }
   ],
   "source": [
    "path = \"https://raw.githubusercontent.com/yurchisin/disaster_prepositioning/refs/heads/main/content/data/\"\n",
    "\n",
    "simple_Allocation = pd.read_csv(path+\"simple_Allocation.csv\")\n",
    "simple_Allocation"
   ]
  },
  {
   "cell_type": "code",
   "execution_count": 3,
   "metadata": {},
   "outputs": [
    {
     "name": "stdout",
     "output_type": "stream",
     "text": [
      "Restricted license - for non-production use only - expires 2025-11-24\n"
     ]
    },
    {
     "name": "stdout",
     "output_type": "stream",
     "text": [
      "Gurobi Optimizer version 11.0.3 build v11.0.3rc0 (mac64[rosetta2] - Darwin 24.4.0 24E263)\n"
     ]
    },
    {
     "name": "stdout",
     "output_type": "stream",
     "text": [
      "\n"
     ]
    },
    {
     "name": "stdout",
     "output_type": "stream",
     "text": [
      "CPU model: Apple M1\n"
     ]
    },
    {
     "name": "stdout",
     "output_type": "stream",
     "text": [
      "Thread count: 8 physical cores, 8 logical processors, using up to 8 threads\n"
     ]
    },
    {
     "name": "stdout",
     "output_type": "stream",
     "text": [
      "\n"
     ]
    },
    {
     "name": "stdout",
     "output_type": "stream",
     "text": [
      "Optimize a model with 17 rows, 16 columns and 32 nonzeros\n"
     ]
    },
    {
     "name": "stdout",
     "output_type": "stream",
     "text": [
      "Model fingerprint: 0x37d66425\n"
     ]
    },
    {
     "name": "stdout",
     "output_type": "stream",
     "text": [
      "Coefficient statistics:\n"
     ]
    },
    {
     "name": "stdout",
     "output_type": "stream",
     "text": [
      "  Matrix range     [1e+00, 1e+00]\n"
     ]
    },
    {
     "name": "stdout",
     "output_type": "stream",
     "text": [
      "  Objective range  [6e+00, 3e+01]\n"
     ]
    },
    {
     "name": "stdout",
     "output_type": "stream",
     "text": [
      "  Bounds range     [0e+00, 0e+00]\n"
     ]
    },
    {
     "name": "stdout",
     "output_type": "stream",
     "text": [
      "  RHS range        [3e+00, 1e+04]\n"
     ]
    },
    {
     "name": "stdout",
     "output_type": "stream",
     "text": [
      "Presolve removed 16 rows and 2 columns\n"
     ]
    },
    {
     "name": "stdout",
     "output_type": "stream",
     "text": [
      "Presolve time: 0.00s\n"
     ]
    },
    {
     "name": "stdout",
     "output_type": "stream",
     "text": [
      "Presolved: 1 rows, 14 columns, 14 nonzeros\n"
     ]
    },
    {
     "name": "stdout",
     "output_type": "stream",
     "text": [
      "\n"
     ]
    },
    {
     "name": "stdout",
     "output_type": "stream",
     "text": [
      "Iteration    Objective       Primal Inf.    Dual Inf.      Time\n"
     ]
    },
    {
     "name": "stdout",
     "output_type": "stream",
     "text": [
      "       0    0.0000000e+00   1.691875e+03   0.000000e+00      0s\n"
     ]
    },
    {
     "name": "stdout",
     "output_type": "stream",
     "text": [
      "       1    9.8293000e+04   0.000000e+00   0.000000e+00      0s\n"
     ]
    },
    {
     "name": "stdout",
     "output_type": "stream",
     "text": [
      "\n"
     ]
    },
    {
     "name": "stdout",
     "output_type": "stream",
     "text": [
      "Solved in 1 iterations and 0.01 seconds (0.00 work units)\n"
     ]
    },
    {
     "name": "stdout",
     "output_type": "stream",
     "text": [
      "Optimal objective  9.829300000e+04\n"
     ]
    }
   ],
   "source": [
    "import gurobipy as gp\n",
    "from gurobipy import GRB\n",
    "\n",
    "# Prep data\n",
    "BucketsNeeded = 13561\n",
    "n = len(simple_Allocation)\n",
    "t = simple_Allocation.drivingTime_hrs\n",
    "b = simple_Allocation.Buckets\n",
    "\n",
    "# Create model\n",
    "model = gp.Model(\"simple_Allocation\") \n",
    "\n",
    "# Add decision variables\n",
    "y=model.addVars(n, name=\"Warehouse_Allocation\")\n",
    "\n",
    "# Add constraint to meet demand\n",
    "model.addConstr(gp.quicksum(y[i] for i in range(n))==BucketsNeeded,name='Meet_Demand')\n",
    "\n",
    "# Add in warehouse_constraints\n",
    "for i in range(n):\n",
    "    model.addConstr(y[i] <= b[i], name=f\"warehouse_endowment_{i}\")\n",
    "\n",
    "# Note we don't have a constraint for y >= 0 since it's assumed in the variable definition\n",
    "# Add objective\n",
    "objective = gp.quicksum(t[i] * y[i] for i in range(n))\n",
    "model.setObjective(objective, GRB.MINIMIZE)\n",
    "\n",
    "# Fire up the solver!\n",
    "model.optimize()"
   ]
  },
  {
   "cell_type": "markdown",
   "metadata": {},
   "source": [
    "Now Let's Analyze the results!"
   ]
  },
  {
   "cell_type": "code",
   "execution_count": 4,
   "metadata": {},
   "outputs": [
    {
     "data": {
      "text/html": [
       "<div>\n",
       "<style scoped>\n",
       "    .dataframe tbody tr th:only-of-type {\n",
       "        vertical-align: middle;\n",
       "    }\n",
       "\n",
       "    .dataframe tbody tr th {\n",
       "        vertical-align: top;\n",
       "    }\n",
       "\n",
       "    .dataframe thead th {\n",
       "        text-align: right;\n",
       "    }\n",
       "</style>\n",
       "<table border=\"1\" class=\"dataframe\">\n",
       "  <thead>\n",
       "    <tr style=\"text-align: right;\">\n",
       "      <th></th>\n",
       "      <th>depotCity</th>\n",
       "      <th>drivingTime_hrs</th>\n",
       "      <th>Buckets</th>\n",
       "      <th>y</th>\n",
       "    </tr>\n",
       "  </thead>\n",
       "  <tbody>\n",
       "    <tr>\n",
       "      <th>1</th>\n",
       "      <td>Ambatondrazaka</td>\n",
       "      <td>0.00</td>\n",
       "      <td>26</td>\n",
       "      <td>26.0</td>\n",
       "    </tr>\n",
       "    <tr>\n",
       "      <th>4</th>\n",
       "      <td>Antananarivo Renivohitra</td>\n",
       "      <td>6.00</td>\n",
       "      <td>9046</td>\n",
       "      <td>9046.0</td>\n",
       "    </tr>\n",
       "    <tr>\n",
       "      <th>11</th>\n",
       "      <td>Miarinarivo</td>\n",
       "      <td>7.00</td>\n",
       "      <td>3</td>\n",
       "      <td>3.0</td>\n",
       "    </tr>\n",
       "    <tr>\n",
       "      <th>14</th>\n",
       "      <td>Toamasina I</td>\n",
       "      <td>8.00</td>\n",
       "      <td>1580</td>\n",
       "      <td>1580.0</td>\n",
       "    </tr>\n",
       "    <tr>\n",
       "      <th>5</th>\n",
       "      <td>Antsohihy</td>\n",
       "      <td>10.00</td>\n",
       "      <td>610</td>\n",
       "      <td>610.0</td>\n",
       "    </tr>\n",
       "    <tr>\n",
       "      <th>2</th>\n",
       "      <td>Ambositra</td>\n",
       "      <td>11.00</td>\n",
       "      <td>41</td>\n",
       "      <td>0.0</td>\n",
       "    </tr>\n",
       "    <tr>\n",
       "      <th>7</th>\n",
       "      <td>Fenerive Est</td>\n",
       "      <td>11.00</td>\n",
       "      <td>6689</td>\n",
       "      <td>2296.0</td>\n",
       "    </tr>\n",
       "    <tr>\n",
       "      <th>0</th>\n",
       "      <td>Ambanja</td>\n",
       "      <td>14.00</td>\n",
       "      <td>375</td>\n",
       "      <td>0.0</td>\n",
       "    </tr>\n",
       "    <tr>\n",
       "      <th>9</th>\n",
       "      <td>Maintirano</td>\n",
       "      <td>14.25</td>\n",
       "      <td>2460</td>\n",
       "      <td>0.0</td>\n",
       "    </tr>\n",
       "    <tr>\n",
       "      <th>8</th>\n",
       "      <td>Mahajanga I</td>\n",
       "      <td>16.00</td>\n",
       "      <td>150</td>\n",
       "      <td>0.0</td>\n",
       "    </tr>\n",
       "    <tr>\n",
       "      <th>12</th>\n",
       "      <td>Morondava</td>\n",
       "      <td>16.00</td>\n",
       "      <td>736</td>\n",
       "      <td>0.0</td>\n",
       "    </tr>\n",
       "    <tr>\n",
       "      <th>10</th>\n",
       "      <td>Manakara</td>\n",
       "      <td>17.00</td>\n",
       "      <td>4235</td>\n",
       "      <td>0.0</td>\n",
       "    </tr>\n",
       "    <tr>\n",
       "      <th>6</th>\n",
       "      <td>Farafangana</td>\n",
       "      <td>19.00</td>\n",
       "      <td>5201</td>\n",
       "      <td>0.0</td>\n",
       "    </tr>\n",
       "    <tr>\n",
       "      <th>15</th>\n",
       "      <td>Toliara</td>\n",
       "      <td>22.00</td>\n",
       "      <td>1637</td>\n",
       "      <td>0.0</td>\n",
       "    </tr>\n",
       "    <tr>\n",
       "      <th>13</th>\n",
       "      <td>Sambava</td>\n",
       "      <td>23.00</td>\n",
       "      <td>5700</td>\n",
       "      <td>0.0</td>\n",
       "    </tr>\n",
       "    <tr>\n",
       "      <th>3</th>\n",
       "      <td>Ambovombe</td>\n",
       "      <td>26.00</td>\n",
       "      <td>2322</td>\n",
       "      <td>0.0</td>\n",
       "    </tr>\n",
       "  </tbody>\n",
       "</table>\n",
       "</div>"
      ],
      "text/plain": [
       "                   depotCity  drivingTime_hrs  Buckets       y\n",
       "1             Ambatondrazaka             0.00       26    26.0\n",
       "4   Antananarivo Renivohitra             6.00     9046  9046.0\n",
       "11               Miarinarivo             7.00        3     3.0\n",
       "14               Toamasina I             8.00     1580  1580.0\n",
       "5                  Antsohihy            10.00      610   610.0\n",
       "2                  Ambositra            11.00       41     0.0\n",
       "7               Fenerive Est            11.00     6689  2296.0\n",
       "0                    Ambanja            14.00      375     0.0\n",
       "9                 Maintirano            14.25     2460     0.0\n",
       "8                Mahajanga I            16.00      150     0.0\n",
       "12                 Morondava            16.00      736     0.0\n",
       "10                  Manakara            17.00     4235     0.0\n",
       "6                Farafangana            19.00     5201     0.0\n",
       "15                   Toliara            22.00     1637     0.0\n",
       "13                   Sambava            23.00     5700     0.0\n",
       "3                  Ambovombe            26.00     2322     0.0"
      ]
     },
     "execution_count": 4,
     "metadata": {},
     "output_type": "execute_result"
    }
   ],
   "source": [
    "y_sol = []\n",
    "for i in range(n):\n",
    "    y_sol.append(y[i].X)\n",
    "simple_Allocation_sol = simple_Allocation.copy()\n",
    "simple_Allocation_sol['y'] = y_sol\n",
    "simple_Allocation_sol.sort_values('drivingTime_hrs')"
   ]
  },
  {
   "cell_type": "markdown",
   "metadata": {},
   "source": [
    "### Second ESUPS example model"
   ]
  },
  {
   "cell_type": "code",
   "execution_count": 5,
   "metadata": {},
   "outputs": [
    {
     "data": {
      "text/html": [
       "<div>\n",
       "<style scoped>\n",
       "    .dataframe tbody tr th:only-of-type {\n",
       "        vertical-align: middle;\n",
       "    }\n",
       "\n",
       "    .dataframe tbody tr th {\n",
       "        vertical-align: top;\n",
       "    }\n",
       "\n",
       "    .dataframe thead th {\n",
       "        text-align: right;\n",
       "    }\n",
       "</style>\n",
       "<table border=\"1\" class=\"dataframe\">\n",
       "  <thead>\n",
       "    <tr style=\"text-align: right;\">\n",
       "      <th></th>\n",
       "      <th>Type</th>\n",
       "      <th>Lat</th>\n",
       "      <th>Long</th>\n",
       "      <th>Buckets</th>\n",
       "    </tr>\n",
       "  </thead>\n",
       "  <tbody>\n",
       "    <tr>\n",
       "      <th>0</th>\n",
       "      <td>warehouses</td>\n",
       "      <td>-17.823700</td>\n",
       "      <td>48.426300</td>\n",
       "      <td>26</td>\n",
       "    </tr>\n",
       "    <tr>\n",
       "      <th>1</th>\n",
       "      <td>warehouses</td>\n",
       "      <td>-20.516700</td>\n",
       "      <td>47.250000</td>\n",
       "      <td>41</td>\n",
       "    </tr>\n",
       "    <tr>\n",
       "      <th>2</th>\n",
       "      <td>warehouses</td>\n",
       "      <td>-18.908500</td>\n",
       "      <td>47.537500</td>\n",
       "      <td>9046</td>\n",
       "    </tr>\n",
       "    <tr>\n",
       "      <th>3</th>\n",
       "      <td>warehouses</td>\n",
       "      <td>-17.384300</td>\n",
       "      <td>49.409800</td>\n",
       "      <td>2762</td>\n",
       "    </tr>\n",
       "    <tr>\n",
       "      <th>4</th>\n",
       "      <td>warehouses</td>\n",
       "      <td>-16.916700</td>\n",
       "      <td>49.900000</td>\n",
       "      <td>1682</td>\n",
       "    </tr>\n",
       "    <tr>\n",
       "      <th>5</th>\n",
       "      <td>warehouses</td>\n",
       "      <td>-15.430900</td>\n",
       "      <td>49.758300</td>\n",
       "      <td>1870</td>\n",
       "    </tr>\n",
       "    <tr>\n",
       "      <th>6</th>\n",
       "      <td>warehouses</td>\n",
       "      <td>-16.170200</td>\n",
       "      <td>49.774100</td>\n",
       "      <td>0</td>\n",
       "    </tr>\n",
       "    <tr>\n",
       "      <th>7</th>\n",
       "      <td>warehouses</td>\n",
       "      <td>-16.926100</td>\n",
       "      <td>49.587100</td>\n",
       "      <td>375</td>\n",
       "    </tr>\n",
       "    <tr>\n",
       "      <th>8</th>\n",
       "      <td>warehouses</td>\n",
       "      <td>-25.176133</td>\n",
       "      <td>46.089378</td>\n",
       "      <td>2322</td>\n",
       "    </tr>\n",
       "    <tr>\n",
       "      <th>9</th>\n",
       "      <td>warehouses</td>\n",
       "      <td>-25.031600</td>\n",
       "      <td>46.990000</td>\n",
       "      <td>0</td>\n",
       "    </tr>\n",
       "    <tr>\n",
       "      <th>10</th>\n",
       "      <td>warehouses</td>\n",
       "      <td>-24.206400</td>\n",
       "      <td>45.865800</td>\n",
       "      <td>610</td>\n",
       "    </tr>\n",
       "    <tr>\n",
       "      <th>11</th>\n",
       "      <td>warehouses</td>\n",
       "      <td>-23.350000</td>\n",
       "      <td>43.666700</td>\n",
       "      <td>1027</td>\n",
       "    </tr>\n",
       "    <tr>\n",
       "      <th>12</th>\n",
       "      <td>warehouses</td>\n",
       "      <td>-23.452200</td>\n",
       "      <td>45.078100</td>\n",
       "      <td>0</td>\n",
       "    </tr>\n",
       "    <tr>\n",
       "      <th>13</th>\n",
       "      <td>warehouses</td>\n",
       "      <td>-23.426050</td>\n",
       "      <td>47.059080</td>\n",
       "      <td>1870</td>\n",
       "    </tr>\n",
       "    <tr>\n",
       "      <th>14</th>\n",
       "      <td>warehouses</td>\n",
       "      <td>-22.816700</td>\n",
       "      <td>47.816700</td>\n",
       "      <td>3331</td>\n",
       "    </tr>\n",
       "    <tr>\n",
       "      <th>15</th>\n",
       "      <td>warehouses</td>\n",
       "      <td>-23.350500</td>\n",
       "      <td>47.608800</td>\n",
       "      <td>0</td>\n",
       "    </tr>\n",
       "    <tr>\n",
       "      <th>16</th>\n",
       "      <td>warehouses</td>\n",
       "      <td>-18.149900</td>\n",
       "      <td>49.402300</td>\n",
       "      <td>1580</td>\n",
       "    </tr>\n",
       "    <tr>\n",
       "      <th>17</th>\n",
       "      <td>warehouses</td>\n",
       "      <td>-16.950400</td>\n",
       "      <td>46.828100</td>\n",
       "      <td>0</td>\n",
       "    </tr>\n",
       "    <tr>\n",
       "      <th>18</th>\n",
       "      <td>warehouses</td>\n",
       "      <td>-15.716700</td>\n",
       "      <td>46.316700</td>\n",
       "      <td>150</td>\n",
       "    </tr>\n",
       "    <tr>\n",
       "      <th>19</th>\n",
       "      <td>warehouses</td>\n",
       "      <td>-13.680400</td>\n",
       "      <td>48.455500</td>\n",
       "      <td>375</td>\n",
       "    </tr>\n",
       "    <tr>\n",
       "      <th>20</th>\n",
       "      <td>warehouses</td>\n",
       "      <td>-18.960800</td>\n",
       "      <td>46.903600</td>\n",
       "      <td>3</td>\n",
       "    </tr>\n",
       "    <tr>\n",
       "      <th>21</th>\n",
       "      <td>warehouses</td>\n",
       "      <td>-18.064600</td>\n",
       "      <td>44.029500</td>\n",
       "      <td>2460</td>\n",
       "    </tr>\n",
       "    <tr>\n",
       "      <th>22</th>\n",
       "      <td>warehouses</td>\n",
       "      <td>-20.284700</td>\n",
       "      <td>44.317500</td>\n",
       "      <td>736</td>\n",
       "    </tr>\n",
       "    <tr>\n",
       "      <th>23</th>\n",
       "      <td>warehouses</td>\n",
       "      <td>-14.883300</td>\n",
       "      <td>50.283300</td>\n",
       "      <td>5700</td>\n",
       "    </tr>\n",
       "    <tr>\n",
       "      <th>24</th>\n",
       "      <td>warehouses</td>\n",
       "      <td>-14.266700</td>\n",
       "      <td>50.166700</td>\n",
       "      <td>0</td>\n",
       "    </tr>\n",
       "    <tr>\n",
       "      <th>25</th>\n",
       "      <td>warehouses</td>\n",
       "      <td>-14.876200</td>\n",
       "      <td>47.983500</td>\n",
       "      <td>610</td>\n",
       "    </tr>\n",
       "    <tr>\n",
       "      <th>26</th>\n",
       "      <td>warehouses</td>\n",
       "      <td>-22.150000</td>\n",
       "      <td>48.000000</td>\n",
       "      <td>4235</td>\n",
       "    </tr>\n",
       "  </tbody>\n",
       "</table>\n",
       "</div>"
      ],
      "text/plain": [
       "          Type        Lat       Long  Buckets\n",
       "0   warehouses -17.823700  48.426300       26\n",
       "1   warehouses -20.516700  47.250000       41\n",
       "2   warehouses -18.908500  47.537500     9046\n",
       "3   warehouses -17.384300  49.409800     2762\n",
       "4   warehouses -16.916700  49.900000     1682\n",
       "5   warehouses -15.430900  49.758300     1870\n",
       "6   warehouses -16.170200  49.774100        0\n",
       "7   warehouses -16.926100  49.587100      375\n",
       "8   warehouses -25.176133  46.089378     2322\n",
       "9   warehouses -25.031600  46.990000        0\n",
       "10  warehouses -24.206400  45.865800      610\n",
       "11  warehouses -23.350000  43.666700     1027\n",
       "12  warehouses -23.452200  45.078100        0\n",
       "13  warehouses -23.426050  47.059080     1870\n",
       "14  warehouses -22.816700  47.816700     3331\n",
       "15  warehouses -23.350500  47.608800        0\n",
       "16  warehouses -18.149900  49.402300     1580\n",
       "17  warehouses -16.950400  46.828100        0\n",
       "18  warehouses -15.716700  46.316700      150\n",
       "19  warehouses -13.680400  48.455500      375\n",
       "20  warehouses -18.960800  46.903600        3\n",
       "21  warehouses -18.064600  44.029500     2460\n",
       "22  warehouses -20.284700  44.317500      736\n",
       "23  warehouses -14.883300  50.283300     5700\n",
       "24  warehouses -14.266700  50.166700        0\n",
       "25  warehouses -14.876200  47.983500      610\n",
       "26  warehouses -22.150000  48.000000     4235"
      ]
     },
     "execution_count": 5,
     "metadata": {},
     "output_type": "execute_result"
    }
   ],
   "source": [
    "warehouses = pd.read_csv(path+\"warehouses.csv\")\n",
    "warehouses"
   ]
  },
  {
   "cell_type": "code",
   "execution_count": 6,
   "metadata": {},
   "outputs": [
    {
     "data": {
      "text/html": [
       "<div>\n",
       "<style scoped>\n",
       "    .dataframe tbody tr th:only-of-type {\n",
       "        vertical-align: middle;\n",
       "    }\n",
       "\n",
       "    .dataframe tbody tr th {\n",
       "        vertical-align: top;\n",
       "    }\n",
       "\n",
       "    .dataframe thead th {\n",
       "        text-align: right;\n",
       "    }\n",
       "</style>\n",
       "<table border=\"1\" class=\"dataframe\">\n",
       "  <thead>\n",
       "    <tr style=\"text-align: right;\">\n",
       "      <th></th>\n",
       "      <th>Type</th>\n",
       "      <th>Lat</th>\n",
       "      <th>Long</th>\n",
       "      <th>People Impacted</th>\n",
       "      <th>demand</th>\n",
       "    </tr>\n",
       "  </thead>\n",
       "  <tbody>\n",
       "    <tr>\n",
       "      <th>0</th>\n",
       "      <td>Storm</td>\n",
       "      <td>-12.266700</td>\n",
       "      <td>49.283300</td>\n",
       "      <td>118000</td>\n",
       "      <td>40811</td>\n",
       "    </tr>\n",
       "    <tr>\n",
       "      <th>1</th>\n",
       "      <td>Storm</td>\n",
       "      <td>-14.266700</td>\n",
       "      <td>50.166700</td>\n",
       "      <td>100215</td>\n",
       "      <td>40086</td>\n",
       "    </tr>\n",
       "    <tr>\n",
       "      <th>2</th>\n",
       "      <td>Epidemic</td>\n",
       "      <td>-14.876200</td>\n",
       "      <td>47.983500</td>\n",
       "      <td>21976</td>\n",
       "      <td>8790</td>\n",
       "    </tr>\n",
       "    <tr>\n",
       "      <th>3</th>\n",
       "      <td>Epidemic</td>\n",
       "      <td>-15.716700</td>\n",
       "      <td>46.316700</td>\n",
       "      <td>15172</td>\n",
       "      <td>6069</td>\n",
       "    </tr>\n",
       "    <tr>\n",
       "      <th>4</th>\n",
       "      <td>Flood</td>\n",
       "      <td>-16.950400</td>\n",
       "      <td>46.828100</td>\n",
       "      <td>20000</td>\n",
       "      <td>8000</td>\n",
       "    </tr>\n",
       "    <tr>\n",
       "      <th>5</th>\n",
       "      <td>Flood</td>\n",
       "      <td>-17.384300</td>\n",
       "      <td>49.409800</td>\n",
       "      <td>28223</td>\n",
       "      <td>11289</td>\n",
       "    </tr>\n",
       "    <tr>\n",
       "      <th>6</th>\n",
       "      <td>Storm</td>\n",
       "      <td>-17.823700</td>\n",
       "      <td>48.426300</td>\n",
       "      <td>84309</td>\n",
       "      <td>33724</td>\n",
       "    </tr>\n",
       "    <tr>\n",
       "      <th>7</th>\n",
       "      <td>Storm</td>\n",
       "      <td>-18.064600</td>\n",
       "      <td>44.029500</td>\n",
       "      <td>526200</td>\n",
       "      <td>40811</td>\n",
       "    </tr>\n",
       "    <tr>\n",
       "      <th>8</th>\n",
       "      <td>Storm</td>\n",
       "      <td>-18.149900</td>\n",
       "      <td>49.402300</td>\n",
       "      <td>600000</td>\n",
       "      <td>40811</td>\n",
       "    </tr>\n",
       "    <tr>\n",
       "      <th>9</th>\n",
       "      <td>Epidemic</td>\n",
       "      <td>-18.769800</td>\n",
       "      <td>46.050000</td>\n",
       "      <td>3055</td>\n",
       "      <td>1222</td>\n",
       "    </tr>\n",
       "    <tr>\n",
       "      <th>10</th>\n",
       "      <td>Storm</td>\n",
       "      <td>-18.908500</td>\n",
       "      <td>47.537500</td>\n",
       "      <td>55345</td>\n",
       "      <td>22138</td>\n",
       "    </tr>\n",
       "    <tr>\n",
       "      <th>11</th>\n",
       "      <td>Storm</td>\n",
       "      <td>-18.960800</td>\n",
       "      <td>46.903600</td>\n",
       "      <td>1900</td>\n",
       "      <td>760</td>\n",
       "    </tr>\n",
       "    <tr>\n",
       "      <th>12</th>\n",
       "      <td>Flood</td>\n",
       "      <td>-19.866700</td>\n",
       "      <td>47.033300</td>\n",
       "      <td>23369</td>\n",
       "      <td>9348</td>\n",
       "    </tr>\n",
       "    <tr>\n",
       "      <th>13</th>\n",
       "      <td>Storm</td>\n",
       "      <td>-20.284700</td>\n",
       "      <td>44.317500</td>\n",
       "      <td>13561</td>\n",
       "      <td>5424</td>\n",
       "    </tr>\n",
       "    <tr>\n",
       "      <th>14</th>\n",
       "      <td>Storm</td>\n",
       "      <td>-21.236700</td>\n",
       "      <td>48.346100</td>\n",
       "      <td>500</td>\n",
       "      <td>200</td>\n",
       "    </tr>\n",
       "    <tr>\n",
       "      <th>15</th>\n",
       "      <td>Storm</td>\n",
       "      <td>-21.447000</td>\n",
       "      <td>47.087200</td>\n",
       "      <td>736938</td>\n",
       "      <td>40811</td>\n",
       "    </tr>\n",
       "    <tr>\n",
       "      <th>16</th>\n",
       "      <td>Storm</td>\n",
       "      <td>-22.150000</td>\n",
       "      <td>48.000000</td>\n",
       "      <td>162086</td>\n",
       "      <td>40811</td>\n",
       "    </tr>\n",
       "    <tr>\n",
       "      <th>17</th>\n",
       "      <td>Storm</td>\n",
       "      <td>-22.396100</td>\n",
       "      <td>46.121700</td>\n",
       "      <td>369272</td>\n",
       "      <td>40811</td>\n",
       "    </tr>\n",
       "    <tr>\n",
       "      <th>18</th>\n",
       "      <td>Storm</td>\n",
       "      <td>-22.816700</td>\n",
       "      <td>47.816700</td>\n",
       "      <td>100000</td>\n",
       "      <td>40000</td>\n",
       "    </tr>\n",
       "    <tr>\n",
       "      <th>19</th>\n",
       "      <td>Storm</td>\n",
       "      <td>-23.350000</td>\n",
       "      <td>43.666700</td>\n",
       "      <td>70000</td>\n",
       "      <td>28000</td>\n",
       "    </tr>\n",
       "    <tr>\n",
       "      <th>20</th>\n",
       "      <td>Storm</td>\n",
       "      <td>-25.031600</td>\n",
       "      <td>46.990000</td>\n",
       "      <td>540043</td>\n",
       "      <td>40811</td>\n",
       "    </tr>\n",
       "    <tr>\n",
       "      <th>21</th>\n",
       "      <td>Storm</td>\n",
       "      <td>-25.176133</td>\n",
       "      <td>46.089378</td>\n",
       "      <td>250000</td>\n",
       "      <td>40811</td>\n",
       "    </tr>\n",
       "  </tbody>\n",
       "</table>\n",
       "</div>"
      ],
      "text/plain": [
       "        Type        Lat       Long  People Impacted  demand\n",
       "0      Storm -12.266700  49.283300           118000   40811\n",
       "1      Storm -14.266700  50.166700           100215   40086\n",
       "2   Epidemic -14.876200  47.983500            21976    8790\n",
       "3   Epidemic -15.716700  46.316700            15172    6069\n",
       "4      Flood -16.950400  46.828100            20000    8000\n",
       "5      Flood -17.384300  49.409800            28223   11289\n",
       "6      Storm -17.823700  48.426300            84309   33724\n",
       "7      Storm -18.064600  44.029500           526200   40811\n",
       "8      Storm -18.149900  49.402300           600000   40811\n",
       "9   Epidemic -18.769800  46.050000             3055    1222\n",
       "10     Storm -18.908500  47.537500            55345   22138\n",
       "11     Storm -18.960800  46.903600             1900     760\n",
       "12     Flood -19.866700  47.033300            23369    9348\n",
       "13     Storm -20.284700  44.317500            13561    5424\n",
       "14     Storm -21.236700  48.346100              500     200\n",
       "15     Storm -21.447000  47.087200           736938   40811\n",
       "16     Storm -22.150000  48.000000           162086   40811\n",
       "17     Storm -22.396100  46.121700           369272   40811\n",
       "18     Storm -22.816700  47.816700           100000   40000\n",
       "19     Storm -23.350000  43.666700            70000   28000\n",
       "20     Storm -25.031600  46.990000           540043   40811\n",
       "21     Storm -25.176133  46.089378           250000   40811"
      ]
     },
     "execution_count": 6,
     "metadata": {},
     "output_type": "execute_result"
    }
   ],
   "source": [
    "disasters = pd.read_csv(path+\"disasters.csv\")\n",
    "total_buckets = warehouses['Buckets'].sum()\n",
    "\n",
    "# one bucket is needed for 2.5 people on average\n",
    "disasters['demand'] = (\n",
    "    (disasters['People Impacted'] / 2.5)\n",
    "      .round()\n",
    "      .clip(upper=total_buckets)\n",
    "      .astype(int)\n",
    ")\n",
    "\n",
    "disasters"
   ]
  },
  {
   "cell_type": "code",
   "execution_count": 7,
   "metadata": {},
   "outputs": [
    {
     "data": {
      "text/html": [
       "<div>\n",
       "<style scoped>\n",
       "    .dataframe tbody tr th:only-of-type {\n",
       "        vertical-align: middle;\n",
       "    }\n",
       "\n",
       "    .dataframe tbody tr th {\n",
       "        vertical-align: top;\n",
       "    }\n",
       "\n",
       "    .dataframe thead th {\n",
       "        text-align: right;\n",
       "    }\n",
       "</style>\n",
       "<table border=\"1\" class=\"dataframe\">\n",
       "  <thead>\n",
       "    <tr style=\"text-align: right;\">\n",
       "      <th></th>\n",
       "      <th>scenario</th>\n",
       "      <th>warehouse</th>\n",
       "      <th>drivingTime_hrs</th>\n",
       "    </tr>\n",
       "  </thead>\n",
       "  <tbody>\n",
       "    <tr>\n",
       "      <th>0</th>\n",
       "      <td>0</td>\n",
       "      <td>0</td>\n",
       "      <td>21.00</td>\n",
       "    </tr>\n",
       "    <tr>\n",
       "      <th>1</th>\n",
       "      <td>0</td>\n",
       "      <td>1</td>\n",
       "      <td>30.00</td>\n",
       "    </tr>\n",
       "    <tr>\n",
       "      <th>2</th>\n",
       "      <td>0</td>\n",
       "      <td>2</td>\n",
       "      <td>25.00</td>\n",
       "    </tr>\n",
       "    <tr>\n",
       "      <th>3</th>\n",
       "      <td>0</td>\n",
       "      <td>3</td>\n",
       "      <td>32.00</td>\n",
       "    </tr>\n",
       "    <tr>\n",
       "      <th>4</th>\n",
       "      <td>0</td>\n",
       "      <td>4</td>\n",
       "      <td>35.75</td>\n",
       "    </tr>\n",
       "    <tr>\n",
       "      <th>...</th>\n",
       "      <td>...</td>\n",
       "      <td>...</td>\n",
       "      <td>...</td>\n",
       "    </tr>\n",
       "    <tr>\n",
       "      <th>457</th>\n",
       "      <td>21</td>\n",
       "      <td>16</td>\n",
       "      <td>26.00</td>\n",
       "    </tr>\n",
       "    <tr>\n",
       "      <th>458</th>\n",
       "      <td>21</td>\n",
       "      <td>17</td>\n",
       "      <td>19.00</td>\n",
       "    </tr>\n",
       "    <tr>\n",
       "      <th>459</th>\n",
       "      <td>21</td>\n",
       "      <td>18</td>\n",
       "      <td>48.00</td>\n",
       "    </tr>\n",
       "    <tr>\n",
       "      <th>460</th>\n",
       "      <td>21</td>\n",
       "      <td>19</td>\n",
       "      <td>33.00</td>\n",
       "    </tr>\n",
       "    <tr>\n",
       "      <th>461</th>\n",
       "      <td>21</td>\n",
       "      <td>20</td>\n",
       "      <td>15.00</td>\n",
       "    </tr>\n",
       "  </tbody>\n",
       "</table>\n",
       "<p>462 rows × 3 columns</p>\n",
       "</div>"
      ],
      "text/plain": [
       "     scenario  warehouse  drivingTime_hrs\n",
       "0           0          0            21.00\n",
       "1           0          1            30.00\n",
       "2           0          2            25.00\n",
       "3           0          3            32.00\n",
       "4           0          4            35.75\n",
       "..        ...        ...              ...\n",
       "457        21         16            26.00\n",
       "458        21         17            19.00\n",
       "459        21         18            48.00\n",
       "460        21         19            33.00\n",
       "461        21         20            15.00\n",
       "\n",
       "[462 rows x 3 columns]"
      ]
     },
     "execution_count": 7,
     "metadata": {},
     "output_type": "execute_result"
    }
   ],
   "source": [
    "distanceMatrix_scenarios = pd.read_csv(path+\"distanceMatrix_scenarios.csv\")\n",
    "distanceMatrix_scenarios"
   ]
  },
  {
   "cell_type": "code",
   "execution_count": 8,
   "metadata": {},
   "outputs": [
    {
     "data": {
      "text/plain": [
       "array([40811, 40086,  8790,  6069,  8000, 11289, 33724, 40811, 40811,\n",
       "        1222, 22138,   760,  9348,  5424,   200, 40811, 40811, 40811,\n",
       "       40000, 28000, 40811, 40811])"
      ]
     },
     "execution_count": 8,
     "metadata": {},
     "output_type": "execute_result"
    }
   ],
   "source": [
    "demand = disasters['demand'].values\n",
    "probs = [1/len(demand)] * len(demand)\n",
    "demand"
   ]
  },
  {
   "cell_type": "code",
   "execution_count": 9,
   "metadata": {},
   "outputs": [
    {
     "data": {
      "text/plain": [
       "0      375\n",
       "1       26\n",
       "2       41\n",
       "3     2322\n",
       "4     9046\n",
       "5      610\n",
       "6     5201\n",
       "7     6689\n",
       "8      150\n",
       "9     2460\n",
       "10    4235\n",
       "11       3\n",
       "12     736\n",
       "13    5700\n",
       "14    1580\n",
       "15    1637\n",
       "Name: Buckets, dtype: int64"
      ]
     },
     "execution_count": 9,
     "metadata": {},
     "output_type": "execute_result"
    }
   ],
   "source": [
    "b"
   ]
  },
  {
   "cell_type": "code",
   "execution_count": 10,
   "metadata": {},
   "outputs": [
    {
     "name": "stdout",
     "output_type": "stream",
     "text": [
      "Gurobi Optimizer version 11.0.3 build v11.0.3rc0 (mac64[rosetta2] - Darwin 24.4.0 24E263)\n"
     ]
    },
    {
     "name": "stdout",
     "output_type": "stream",
     "text": [
      "\n"
     ]
    },
    {
     "name": "stdout",
     "output_type": "stream",
     "text": [
      "CPU model: Apple M1\n"
     ]
    },
    {
     "name": "stdout",
     "output_type": "stream",
     "text": [
      "Thread count: 8 physical cores, 8 logical processors, using up to 8 threads\n"
     ]
    },
    {
     "name": "stdout",
     "output_type": "stream",
     "text": [
      "\n"
     ]
    },
    {
     "name": "stdout",
     "output_type": "stream",
     "text": [
      "Optimize a model with 484 rows, 462 columns and 924 nonzeros\n"
     ]
    },
    {
     "name": "stdout",
     "output_type": "stream",
     "text": [
      "Model fingerprint: 0xa84de061\n"
     ]
    },
    {
     "name": "stdout",
     "output_type": "stream",
     "text": [
      "Coefficient statistics:\n"
     ]
    },
    {
     "name": "stdout",
     "output_type": "stream",
     "text": [
      "  Matrix range     [1e+00, 1e+00]\n"
     ]
    },
    {
     "name": "stdout",
     "output_type": "stream",
     "text": [
      "  Objective range  [5e-02, 2e+00]\n"
     ]
    },
    {
     "name": "stdout",
     "output_type": "stream",
     "text": [
      "  Bounds range     [0e+00, 0e+00]\n"
     ]
    },
    {
     "name": "stdout",
     "output_type": "stream",
     "text": [
      "  RHS range        [3e+00, 4e+04]\n"
     ]
    },
    {
     "name": "stdout",
     "output_type": "stream",
     "text": [
      "Presolve removed 478 rows and 372 columns\n"
     ]
    },
    {
     "name": "stdout",
     "output_type": "stream",
     "text": [
      "Presolve time: 0.00s\n"
     ]
    },
    {
     "name": "stdout",
     "output_type": "stream",
     "text": [
      "Presolved: 6 rows, 90 columns, 90 nonzeros\n"
     ]
    },
    {
     "name": "stdout",
     "output_type": "stream",
     "text": [
      "\n"
     ]
    },
    {
     "name": "stdout",
     "output_type": "stream",
     "text": [
      "Iteration    Objective       Primal Inf.    Dual Inf.      Time\n"
     ]
    },
    {
     "name": "stdout",
     "output_type": "stream",
     "text": [
      "       0    4.1096854e+05   1.040175e+04   0.000000e+00      0s\n"
     ]
    },
    {
     "name": "stdout",
     "output_type": "stream",
     "text": [
      "       6    4.4697821e+05   0.000000e+00   0.000000e+00      0s\n"
     ]
    },
    {
     "name": "stdout",
     "output_type": "stream",
     "text": [
      "\n"
     ]
    },
    {
     "name": "stdout",
     "output_type": "stream",
     "text": [
      "Solved in 6 iterations and 0.00 seconds (0.00 work units)\n"
     ]
    },
    {
     "name": "stdout",
     "output_type": "stream",
     "text": [
      "Optimal objective  4.469782127e+05\n"
     ]
    }
   ],
   "source": [
    "m = len(demand) #number of disasters/scenarios\n",
    "t = distanceMatrix_scenarios.set_index(['scenario', 'warehouse']).squeeze().to_dict()\n",
    "b = warehouses['Buckets'][warehouses['Buckets'] > 0].reset_index(drop=True)\n",
    "n = len(b) #number of warehouses\n",
    "\n",
    "model_2 = gp.Model(\"multiple_disasters\") \n",
    "\n",
    "# Amount to take per Warehouse\n",
    "y = model_2.addVars(t.keys(), name=\"Warehouse_Allocation\")\n",
    "\n",
    "# Add constraints to meet demand for each disaster scenario (k)\n",
    "for k in range(m):\n",
    "    # Demand constraints\n",
    "    model_2.addConstr(gp.quicksum(y[k, i] for i in range(n)) == demand[k], name=f\"Meet_Demand_K:{k}\")\n",
    "    \n",
    "    # Warehouse constraints\n",
    "    for i in range(n):\n",
    "        model_2.addConstr(y[k, i] <= b[i], name=f\"warehouse_endowment_K:{k}_I:{i}\")\n",
    "\n",
    "# Objective function to minimize the weighted driving time using t as a parameter\n",
    "objective = gp.quicksum(\n",
    "    probs[k] * gp.quicksum(t[k, i] * y[k, i] for i in range(n))\n",
    "    for k in range(m)\n",
    ")\n",
    "\n",
    "# Optimize model\n",
    "model_2.setObjective(objective, GRB.MINIMIZE)\n",
    "model_2.optimize()\n",
    "\n",
    "# Store results in the list 'a'\n",
    "a = []\n",
    "for v in model_2.getVars():\n",
    "    a.append([v.VarName, v.X])\n",
    "a = pd.DataFrame(a)\n",
    "a.columns = ['Warehouse','Buckets']"
   ]
  },
  {
   "cell_type": "code",
   "execution_count": 11,
   "metadata": {},
   "outputs": [
    {
     "data": {
      "text/html": [
       "<div>\n",
       "<style scoped>\n",
       "    .dataframe tbody tr th:only-of-type {\n",
       "        vertical-align: middle;\n",
       "    }\n",
       "\n",
       "    .dataframe tbody tr th {\n",
       "        vertical-align: top;\n",
       "    }\n",
       "\n",
       "    .dataframe thead th {\n",
       "        text-align: right;\n",
       "    }\n",
       "</style>\n",
       "<table border=\"1\" class=\"dataframe\">\n",
       "  <thead>\n",
       "    <tr style=\"text-align: right;\">\n",
       "      <th></th>\n",
       "      <th>Warehouse</th>\n",
       "      <th>Buckets</th>\n",
       "    </tr>\n",
       "  </thead>\n",
       "  <tbody>\n",
       "    <tr>\n",
       "      <th>0</th>\n",
       "      <td>Warehouse_Allocation[0,0]</td>\n",
       "      <td>26.0</td>\n",
       "    </tr>\n",
       "    <tr>\n",
       "      <th>1</th>\n",
       "      <td>Warehouse_Allocation[0,1]</td>\n",
       "      <td>41.0</td>\n",
       "    </tr>\n",
       "    <tr>\n",
       "      <th>2</th>\n",
       "      <td>Warehouse_Allocation[0,2]</td>\n",
       "      <td>9046.0</td>\n",
       "    </tr>\n",
       "    <tr>\n",
       "      <th>3</th>\n",
       "      <td>Warehouse_Allocation[0,3]</td>\n",
       "      <td>2762.0</td>\n",
       "    </tr>\n",
       "    <tr>\n",
       "      <th>4</th>\n",
       "      <td>Warehouse_Allocation[0,4]</td>\n",
       "      <td>1682.0</td>\n",
       "    </tr>\n",
       "    <tr>\n",
       "      <th>5</th>\n",
       "      <td>Warehouse_Allocation[0,5]</td>\n",
       "      <td>1870.0</td>\n",
       "    </tr>\n",
       "    <tr>\n",
       "      <th>6</th>\n",
       "      <td>Warehouse_Allocation[0,6]</td>\n",
       "      <td>375.0</td>\n",
       "    </tr>\n",
       "    <tr>\n",
       "      <th>7</th>\n",
       "      <td>Warehouse_Allocation[0,7]</td>\n",
       "      <td>2322.0</td>\n",
       "    </tr>\n",
       "    <tr>\n",
       "      <th>8</th>\n",
       "      <td>Warehouse_Allocation[0,8]</td>\n",
       "      <td>610.0</td>\n",
       "    </tr>\n",
       "    <tr>\n",
       "      <th>9</th>\n",
       "      <td>Warehouse_Allocation[0,9]</td>\n",
       "      <td>1027.0</td>\n",
       "    </tr>\n",
       "    <tr>\n",
       "      <th>10</th>\n",
       "      <td>Warehouse_Allocation[0,10]</td>\n",
       "      <td>1870.0</td>\n",
       "    </tr>\n",
       "    <tr>\n",
       "      <th>11</th>\n",
       "      <td>Warehouse_Allocation[0,11]</td>\n",
       "      <td>3331.0</td>\n",
       "    </tr>\n",
       "    <tr>\n",
       "      <th>12</th>\n",
       "      <td>Warehouse_Allocation[0,12]</td>\n",
       "      <td>1580.0</td>\n",
       "    </tr>\n",
       "    <tr>\n",
       "      <th>13</th>\n",
       "      <td>Warehouse_Allocation[0,13]</td>\n",
       "      <td>150.0</td>\n",
       "    </tr>\n",
       "    <tr>\n",
       "      <th>14</th>\n",
       "      <td>Warehouse_Allocation[0,14]</td>\n",
       "      <td>375.0</td>\n",
       "    </tr>\n",
       "  </tbody>\n",
       "</table>\n",
       "</div>"
      ],
      "text/plain": [
       "                     Warehouse  Buckets\n",
       "0    Warehouse_Allocation[0,0]     26.0\n",
       "1    Warehouse_Allocation[0,1]     41.0\n",
       "2    Warehouse_Allocation[0,2]   9046.0\n",
       "3    Warehouse_Allocation[0,3]   2762.0\n",
       "4    Warehouse_Allocation[0,4]   1682.0\n",
       "5    Warehouse_Allocation[0,5]   1870.0\n",
       "6    Warehouse_Allocation[0,6]    375.0\n",
       "7    Warehouse_Allocation[0,7]   2322.0\n",
       "8    Warehouse_Allocation[0,8]    610.0\n",
       "9    Warehouse_Allocation[0,9]   1027.0\n",
       "10  Warehouse_Allocation[0,10]   1870.0\n",
       "11  Warehouse_Allocation[0,11]   3331.0\n",
       "12  Warehouse_Allocation[0,12]   1580.0\n",
       "13  Warehouse_Allocation[0,13]    150.0\n",
       "14  Warehouse_Allocation[0,14]    375.0"
      ]
     },
     "execution_count": 11,
     "metadata": {},
     "output_type": "execute_result"
    }
   ],
   "source": [
    "a[:15]"
   ]
  },
  {
   "cell_type": "code",
   "execution_count": 12,
   "metadata": {},
   "outputs": [],
   "source": [
    "a.to_csv(\"a.csv\",index = False)"
   ]
  },
  {
   "cell_type": "markdown",
   "metadata": {},
   "source": [
    "### Full Model"
   ]
  },
  {
   "cell_type": "markdown",
   "metadata": {},
   "source": [
    "While this may initially look intimidating, it is one of the easiest changes to make to our current code. All we are doing is making a decision variable instead of a constant and then constraining it. Let’s substitute back in our equation from the last section with the new constraints to see this firsthand. To denote a new decision variable (i.e. a variable that can be changed), all we need to do is add it under the minimization sign. This means minimizing with respect to $x$ and $y$\n",
    "\n",
    "$$\n",
    "\\min_{x,y} \\sum_k P^k \\sum_i \\tau_{ij}\\cdot y^k_i\n",
    "$$\n",
    "\n",
    "Then all we need to do is update the constraints. I've included the line to make it easier to see what's new as our list grows. It has no mathematical significance. \n",
    "\n",
    "So how do we Implement this in Gurobi?\n",
    "\n",
    "$$\n",
    "\\begin{aligned}\n",
    "\n",
    "\n",
    "\\text{s.t.}  & \\sum_{i} & y^k_{i}&=d^k & & \\hspace{.2cm} \\text{(total supplies sent must meet demand)}\\\\\n",
    "\n",
    "& & y^k_i       &\\leq x_i & \\forall i \\in I& \\hspace{.2cm}\\text{(you can't send more than a warehouse has)}\\\\\n",
    "\n",
    " &\\text{} & y^k_{i} &\\geq 0 &\\forall i \\in I& \\hspace{.2cm} \\text{(you can't send negative supplies)}\\\\\n",
    "\\hline \\\\\n",
    "  & \\sum_{i} & x_i&=\\chi & & \\hspace{.2cm} \\text{(we allocate all supplies and no more)}\\\\\n",
    "\n",
    " && x_{i} &\\geq 0 &\\forall i \\in I& \\hspace{.2cm} \\text{(you can't allocate negative supplies)}\\\\\n",
    "\n",
    "\n",
    "\\end{aligned}\n",
    "$$"
   ]
  },
  {
   "cell_type": "code",
   "execution_count": 13,
   "metadata": {},
   "outputs": [
    {
     "name": "stdout",
     "output_type": "stream",
     "text": [
      "Gurobi Optimizer version 11.0.3 build v11.0.3rc0 (mac64[rosetta2] - Darwin 24.4.0 24E263)\n"
     ]
    },
    {
     "name": "stdout",
     "output_type": "stream",
     "text": [
      "\n"
     ]
    },
    {
     "name": "stdout",
     "output_type": "stream",
     "text": [
      "CPU model: Apple M1\n"
     ]
    },
    {
     "name": "stdout",
     "output_type": "stream",
     "text": [
      "Thread count: 8 physical cores, 8 logical processors, using up to 8 threads\n"
     ]
    },
    {
     "name": "stdout",
     "output_type": "stream",
     "text": [
      "\n"
     ]
    },
    {
     "name": "stdout",
     "output_type": "stream",
     "text": [
      "Optimize a model with 485 rows, 483 columns and 1407 nonzeros\n"
     ]
    },
    {
     "name": "stdout",
     "output_type": "stream",
     "text": [
      "Model fingerprint: 0x8817cae8\n"
     ]
    },
    {
     "name": "stdout",
     "output_type": "stream",
     "text": [
      "Coefficient statistics:\n"
     ]
    },
    {
     "name": "stdout",
     "output_type": "stream",
     "text": [
      "  Matrix range     [1e+00, 1e+00]\n"
     ]
    },
    {
     "name": "stdout",
     "output_type": "stream",
     "text": [
      "  Objective range  [5e-02, 2e+00]\n"
     ]
    },
    {
     "name": "stdout",
     "output_type": "stream",
     "text": [
      "  Bounds range     [0e+00, 0e+00]\n"
     ]
    },
    {
     "name": "stdout",
     "output_type": "stream",
     "text": [
      "  RHS range        [2e+02, 4e+04]\n"
     ]
    },
    {
     "name": "stdout",
     "output_type": "stream",
     "text": [
      "Presolve time: 0.00s\n"
     ]
    },
    {
     "name": "stdout",
     "output_type": "stream",
     "text": [
      "Presolved: 485 rows, 483 columns, 1407 nonzeros\n"
     ]
    },
    {
     "name": "stdout",
     "output_type": "stream",
     "text": [
      "\n"
     ]
    },
    {
     "name": "stdout",
     "output_type": "stream",
     "text": [
      "Iteration    Objective       Primal Inf.    Dual Inf.      Time\n"
     ]
    },
    {
     "name": "stdout",
     "output_type": "stream",
     "text": [
      "       0    3.4281409e+04   5.415380e+05   0.000000e+00      0s\n"
     ]
    },
    {
     "name": "stdout",
     "output_type": "stream",
     "text": [
      "     272    3.4027302e+05   0.000000e+00   0.000000e+00      0s\n"
     ]
    },
    {
     "name": "stdout",
     "output_type": "stream",
     "text": [
      "\n"
     ]
    },
    {
     "name": "stdout",
     "output_type": "stream",
     "text": [
      "Solved in 272 iterations and 0.01 seconds (0.00 work units)\n"
     ]
    },
    {
     "name": "stdout",
     "output_type": "stream",
     "text": [
      "Optimal objective  3.402730155e+05\n"
     ]
    }
   ],
   "source": [
    "m = len(demand) #number of disasters/scenarios\n",
    "t = distanceMatrix_scenarios.set_index(['scenario', 'warehouse']).squeeze().to_dict()\n",
    "b = warehouses['Buckets'][warehouses['Buckets'] > 0].reset_index(drop=True)\n",
    "n = len(b) #number of warehouses\n",
    "\n",
    "model_full = gp.Model(\"full_allocation\")\n",
    "\n",
    "# Amount to take per warehouse\n",
    "y = model_full.addVars(m, n, name=\"Single_Warehouse_Allocation\")\n",
    "\n",
    "# National allocation\n",
    "x = model_full.addVars(n, name=\"National_Allocation\")\n",
    "\n",
    "# Total national endowment constraint\n",
    "model_full.addConstr(gp.quicksum(x[i] for i in range(n)) == b.sum(), name=\"Total_National_Endowment\")\n",
    "\n",
    "# Add constraints to meet demand for each disaster scenario (k)\n",
    "for k in range(m):\n",
    "    model_full.addConstr(gp.quicksum(y[k, i] for i in range(n)) == demand[k], name=f\"Meet_Demand_K:{k}\")\n",
    "    # Cannot allocate more than amount assigned to warehouse\n",
    "    # x is now a decision variable\n",
    "    for i in range(n):\n",
    "        model_full.addConstr(y[k, i] <= x[i], name=f\"warehouse_endowment_K:{k}_I:{i}\")\n",
    "\n",
    "# Objective function to minimize the weighted driving time using t as a parameter\n",
    "objective = gp.quicksum(\n",
    "    probs[k] * gp.quicksum(t[k, i] * y[k, i] for i in range(n))\n",
    "    for k in range(m)\n",
    ")\n",
    "\n",
    "# Optimize model\n",
    "model_full.setObjective(objective, GRB.MINIMIZE)\n",
    "model_full.optimize()"
   ]
  },
  {
   "cell_type": "code",
   "execution_count": 14,
   "metadata": {},
   "outputs": [
    {
     "data": {
      "text/html": [
       "<div>\n",
       "<style scoped>\n",
       "    .dataframe tbody tr th:only-of-type {\n",
       "        vertical-align: middle;\n",
       "    }\n",
       "\n",
       "    .dataframe tbody tr th {\n",
       "        vertical-align: top;\n",
       "    }\n",
       "\n",
       "    .dataframe thead th {\n",
       "        text-align: right;\n",
       "    }\n",
       "</style>\n",
       "<table border=\"1\" class=\"dataframe\">\n",
       "  <thead>\n",
       "    <tr style=\"text-align: right;\">\n",
       "      <th></th>\n",
       "      <th>Warehouse</th>\n",
       "      <th>Buckets</th>\n",
       "    </tr>\n",
       "  </thead>\n",
       "  <tbody>\n",
       "    <tr>\n",
       "      <th>0</th>\n",
       "      <td>Single_Warehouse_Allocation[0,0]</td>\n",
       "      <td>0.0</td>\n",
       "    </tr>\n",
       "    <tr>\n",
       "      <th>1</th>\n",
       "      <td>Single_Warehouse_Allocation[0,1]</td>\n",
       "      <td>18673.0</td>\n",
       "    </tr>\n",
       "    <tr>\n",
       "      <th>2</th>\n",
       "      <td>Single_Warehouse_Allocation[0,2]</td>\n",
       "      <td>0.0</td>\n",
       "    </tr>\n",
       "    <tr>\n",
       "      <th>3</th>\n",
       "      <td>Single_Warehouse_Allocation[0,3]</td>\n",
       "      <td>0.0</td>\n",
       "    </tr>\n",
       "    <tr>\n",
       "      <th>4</th>\n",
       "      <td>Single_Warehouse_Allocation[0,4]</td>\n",
       "      <td>0.0</td>\n",
       "    </tr>\n",
       "    <tr>\n",
       "      <th>...</th>\n",
       "      <td>...</td>\n",
       "      <td>...</td>\n",
       "    </tr>\n",
       "    <tr>\n",
       "      <th>457</th>\n",
       "      <td>Single_Warehouse_Allocation[21,16]</td>\n",
       "      <td>0.0</td>\n",
       "    </tr>\n",
       "    <tr>\n",
       "      <th>458</th>\n",
       "      <td>Single_Warehouse_Allocation[21,17]</td>\n",
       "      <td>0.0</td>\n",
       "    </tr>\n",
       "    <tr>\n",
       "      <th>459</th>\n",
       "      <td>Single_Warehouse_Allocation[21,18]</td>\n",
       "      <td>0.0</td>\n",
       "    </tr>\n",
       "    <tr>\n",
       "      <th>460</th>\n",
       "      <td>Single_Warehouse_Allocation[21,19]</td>\n",
       "      <td>0.0</td>\n",
       "    </tr>\n",
       "    <tr>\n",
       "      <th>461</th>\n",
       "      <td>Single_Warehouse_Allocation[21,20]</td>\n",
       "      <td>10124.0</td>\n",
       "    </tr>\n",
       "  </tbody>\n",
       "</table>\n",
       "<p>462 rows × 2 columns</p>\n",
       "</div>"
      ],
      "text/plain": [
       "                              Warehouse  Buckets\n",
       "0      Single_Warehouse_Allocation[0,0]      0.0\n",
       "1      Single_Warehouse_Allocation[0,1]  18673.0\n",
       "2      Single_Warehouse_Allocation[0,2]      0.0\n",
       "3      Single_Warehouse_Allocation[0,3]      0.0\n",
       "4      Single_Warehouse_Allocation[0,4]      0.0\n",
       "..                                  ...      ...\n",
       "457  Single_Warehouse_Allocation[21,16]      0.0\n",
       "458  Single_Warehouse_Allocation[21,17]      0.0\n",
       "459  Single_Warehouse_Allocation[21,18]      0.0\n",
       "460  Single_Warehouse_Allocation[21,19]      0.0\n",
       "461  Single_Warehouse_Allocation[21,20]  10124.0\n",
       "\n",
       "[462 rows x 2 columns]"
      ]
     },
     "execution_count": 14,
     "metadata": {},
     "output_type": "execute_result"
    }
   ],
   "source": [
    "y_values_full = []\n",
    "for i in range(m):\n",
    "    for j in range(n):\n",
    "        y_values_full.append([y[(i,j)].VarName, y[(i,j)].X])\n",
    "y_values_full = pd.DataFrame(y_values_full, columns=['Warehouse', 'Buckets'])\n",
    "y_values_full"
   ]
  },
  {
   "cell_type": "code",
   "execution_count": 15,
   "metadata": {},
   "outputs": [
    {
     "ename": "NameError",
     "evalue": "name 'y_values' is not defined",
     "output_type": "error",
     "traceback": [
      "\u001b[0;31m---------------------------------------------------------------------------\u001b[0m",
      "\u001b[0;31mNameError\u001b[0m                                 Traceback (most recent call last)",
      "Cell \u001b[0;32mIn[15], line 1\u001b[0m\n\u001b[0;32m----> 1\u001b[0m \u001b[43my_values\u001b[49m\u001b[38;5;241m.\u001b[39mto_csv(\u001b[38;5;124m\"\u001b[39m\u001b[38;5;124mfull_solution.csv\u001b[39m\u001b[38;5;124m\"\u001b[39m, index \u001b[38;5;241m=\u001b[39m \u001b[38;5;28;01mFalse\u001b[39;00m)\n",
      "\u001b[0;31mNameError\u001b[0m: name 'y_values' is not defined"
     ]
    }
   ],
   "source": [
    "y_values.to_csv(\"full_solution.csv\", index = False)"
   ]
  }
 ],
 "metadata": {
  "kernelspec": {
   "display_name": "gurobi_ml",
   "language": "python",
   "name": "python3"
  },
  "language_info": {
   "codemirror_mode": {
    "name": "ipython",
    "version": 3
   },
   "file_extension": ".py",
   "mimetype": "text/x-python",
   "name": "python",
   "nbconvert_exporter": "python",
   "pygments_lexer": "ipython3",
   "version": "3.11.6"
  }
 },
 "nbformat": 4,
 "nbformat_minor": 4
}