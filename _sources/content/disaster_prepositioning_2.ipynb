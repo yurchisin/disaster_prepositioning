{
 "cells": [
  {
   "cell_type": "markdown",
   "metadata": {},
   "source": [
    "## 2. Optimizing!\n",
    "\n"
   ]
  },
  {
   "cell_type": "markdown",
   "metadata": {},
   "source": [
    "### 2.1 Introduction to Gurobi Models"
   ]
  },
  {
   "cell_type": "markdown",
   "metadata": {},
   "source": [
    "Before we get into anything too deep, let’s first take a general look at how optimization works. It's broken down into two main parts: **The objective function** (what we want to solve), and the **constraints** (what limits our input)."
   ]
  },
  {
   "cell_type": "markdown",
   "metadata": {},
   "source": [
    "The **objective function** tells the program what we want to do, think maximizing profit or minimizing travel time. Let's say in this example, you're buying $x$ hotdogs and $y$ soda cans. You like both equally, and you want as much as possible. So, our **objective function** would look like this:\n"
   ]
  },
  {
   "cell_type": "markdown",
   "metadata": {},
   "source": [
    "$$\\text{Maximize} \\hspace{.2cm} \tx\t+\ty $$"
   ]
  },
  {
   "cell_type": "markdown",
   "metadata": {},
   "source": [
    "Now we obviously would want to just make both x and y infinite, but in the real world that obviously isn't allowed, so we need a way to **constrain** the objective function. Let's say in this example a hotdog cost $3 and a soda costs $1.50 and you don't want to spend more than $20. We would write:"
   ]
  },
  {
   "cell_type": "markdown",
   "metadata": {},
   "source": [
    "\\begin{aligned}\n",
    "3x\t+ 1.50y \t&\\leq \\hspace{.2cm} 20 \\\\\n",
    "x\t \t \t&\\ge \\hspace{.2cm}\t0 \\\\\n",
    "y\t \t \t&\\ge \\hspace{.2cm}\t0 \\\\\n",
    "\\end{aligned}"
   ]
  },
  {
   "cell_type": "markdown",
   "metadata": {},
   "source": [
    "Putting these together we would typically write the final equation as:"
   ]
  },
  {
   "cell_type": "markdown",
   "metadata": {},
   "source": [
    "\\begin{aligned}\n",
    "\\text{Maximize} \\space\tx\t+\ty \\\\\n",
    "3x\t+ 1.50y \t&\\leq \\hspace{.2cm} 20 \\\\\n",
    "x\t \t \t&\\ge \t0 \\\\\n",
    "y\t \t \t&\\ge \t0 \\\\\n",
    "\\end{aligned}"
   ]
  },
  {
   "cell_type": "markdown",
   "metadata": {},
   "source": [
    "If you're intimidated by the math don't worry, the notation is a formal way to ask how much to buy. Just like machine learning algorithms, while the underlying math can be intimidating, actually applying it is much easier as most of that is abstracted away by the API."
   ]
  },
  {
   "cell_type": "markdown",
   "metadata": {},
   "source": [
    "So how do we go about solving this? It's easy, there are three steps:"
   ]
  },
  {
   "cell_type": "markdown",
   "metadata": {},
   "source": [
    "**1. Instantiate The Solver**"
   ]
  },
  {
   "cell_type": "code",
   "execution_count": 14,
   "metadata": {},
   "outputs": [
    {
     "name": "stdout",
     "output_type": "stream",
     "text": [
      "Restricted license - for non-production use only - expires 2025-11-24\n"
     ]
    }
   ],
   "source": [
    "model_1= gp.Model() "
   ]
  },
  {
   "cell_type": "markdown",
   "metadata": {},
   "source": [
    "**2. Add Our variables**"
   ]
  },
  {
   "cell_type": "code",
   "execution_count": 15,
   "metadata": {},
   "outputs": [],
   "source": [
    "# Create variables\n",
    "x = model_1.addVar(vtype=GRB.INTEGER, name=\"x\")\n",
    "y = model_1.addVar(vtype=GRB.INTEGER, name=\"y\")\n"
   ]
  },
  {
   "cell_type": "markdown",
   "metadata": {},
   "source": [
    "**3. Add Our Constraints**"
   ]
  },
  {
   "cell_type": "code",
   "execution_count": 16,
   "metadata": {},
   "outputs": [
    {
     "data": {
      "text/plain": [
       "<gurobi.Constr *Awaiting Model Update*>"
      ]
     },
     "execution_count": 16,
     "metadata": {},
     "output_type": "execute_result"
    }
   ],
   "source": [
    "model_1.addConstr(x >= 0, \"c0\")\n",
    "model_1.addConstr(y >= 0, \"c0\")\n",
    "model_1.addConstr(3*x + 1.5*y <= 20, \"c1\")\n"
   ]
  },
  {
   "cell_type": "markdown",
   "metadata": {},
   "source": [
    "**4. Add Our Objective Function**"
   ]
  },
  {
   "cell_type": "code",
   "execution_count": 17,
   "metadata": {},
   "outputs": [],
   "source": [
    "# Set objective\n",
    "model_1.setObjective(x + y, GRB.MAXIMIZE)\n"
   ]
  },
  {
   "cell_type": "markdown",
   "metadata": {},
   "source": [
    "**5. Solve!**"
   ]
  },
  {
   "cell_type": "code",
   "execution_count": 18,
   "metadata": {},
   "outputs": [
    {
     "name": "stdout",
     "output_type": "stream",
     "text": [
      "Gurobi Optimizer version 11.0.3 build v11.0.3rc0 (mac64[rosetta2] - Darwin 23.6.0 23G80)\n",
      "\n",
      "CPU model: Apple M1\n",
      "Thread count: 8 physical cores, 8 logical processors, using up to 8 threads\n",
      "\n",
      "Optimize a model with 3 rows, 2 columns and 4 nonzeros\n",
      "Model fingerprint: 0x0d7a692e\n",
      "Variable types: 0 continuous, 2 integer (0 binary)\n",
      "Coefficient statistics:\n",
      "  Matrix range     [1e+00, 3e+00]\n",
      "  Objective range  [1e+00, 1e+00]\n",
      "  Bounds range     [0e+00, 0e+00]\n",
      "  RHS range        [2e+01, 2e+01]\n",
      "Found heuristic solution: objective 7.0000000\n",
      "Presolve removed 3 rows and 2 columns\n",
      "Presolve time: 0.01s\n",
      "Presolve: All rows and columns removed\n",
      "\n",
      "Explored 0 nodes (0 simplex iterations) in 0.01 seconds (0.00 work units)\n",
      "Thread count was 1 (of 8 available processors)\n",
      "\n",
      "Solution count 2: 13 7 \n",
      "\n",
      "Optimal solution found (tolerance 1.00e-04)\n",
      "Best objective 1.300000000000e+01, best bound 1.300000000000e+01, gap 0.0000%\n"
     ]
    }
   ],
   "source": [
    "# Optimize model\n",
    "model_1.optimize()"
   ]
  },
  {
   "cell_type": "markdown",
   "metadata": {},
   "source": [
    "From here we can get all the variables in the model and print their values"
   ]
  },
  {
   "cell_type": "code",
   "execution_count": 19,
   "metadata": {},
   "outputs": [
    {
     "name": "stdout",
     "output_type": "stream",
     "text": [
      "x -0\n",
      "y 13\n",
      "Obj: 13\n"
     ]
    }
   ],
   "source": [
    "#Show Solution\n",
    "for v in model_1.getVars():\n",
    "    print('%s %g' % (v.VarName, v.X))\n",
    "print('Obj: %g' % model_1.ObjVal)\n"
   ]
  },
  {
   "cell_type": "code",
   "execution_count": 20,
   "metadata": {},
   "outputs": [
    {
     "name": "stdout",
     "output_type": "stream",
     "text": [
      "Gurobi Optimizer version 11.0.3 build v11.0.3rc0 (mac64[rosetta2] - Darwin 23.6.0 23G80)\n",
      "\n",
      "CPU model: Apple M1\n",
      "Thread count: 8 physical cores, 8 logical processors, using up to 8 threads\n",
      "\n",
      "Optimize a model with 5 rows, 2 columns and 6 nonzeros\n",
      "Model fingerprint: 0xf66347ca\n",
      "Variable types: 0 continuous, 2 integer (0 binary)\n",
      "Coefficient statistics:\n",
      "  Matrix range     [1e+00, 3e+00]\n",
      "  Objective range  [1e+00, 2e+00]\n",
      "  Bounds range     [0e+00, 0e+00]\n",
      "  RHS range        [5e+00, 2e+01]\n",
      "Found heuristic solution: objective 13.0000000\n",
      "Presolve removed 5 rows and 2 columns\n",
      "Presolve time: 0.00s\n",
      "Presolve: All rows and columns removed\n",
      "\n",
      "Explored 0 nodes (0 simplex iterations) in 0.01 seconds (0.00 work units)\n",
      "Thread count was 1 (of 8 available processors)\n",
      "\n",
      "Solution count 1: 13 \n",
      "\n",
      "Optimal solution found (tolerance 1.00e-04)\n",
      "Best objective 1.300000000000e+01, best bound 1.300000000000e+01, gap 0.0000%\n"
     ]
    }
   ],
   "source": [
    "model_2=gp.Model()\n",
    "# Create variables\n",
    "x = model_2.addVar(vtype=GRB.INTEGER, name=\"x\")\n",
    "y = model_2.addVar(vtype=GRB.INTEGER, name=\"y\")\n",
    "\n",
    "#add constraints\n",
    "model_2.addConstr(x >= 0, \"hotdog_lower_bound\")\n",
    "model_2.addConstr(y >= 0, \"soda_lower_bound\")\n",
    "model_2.addConstr(x <= 5, \"hotdog_upper_bound\")\n",
    "model_2.addConstr(y <= 5, \"soda_upper_bound\")\n",
    "model_2.addConstr(3*x + 1.5*y <= 20, \"c1\")\n",
    "\n",
    "model_2.setObjective(2*x + y, GRB.MAXIMIZE)\n",
    "\n",
    "model_2.optimize()"
   ]
  },
  {
   "cell_type": "code",
   "execution_count": 21,
   "metadata": {},
   "outputs": [
    {
     "name": "stdout",
     "output_type": "stream",
     "text": [
      "x 4\n",
      "y 5\n",
      "Obj: 13\n"
     ]
    }
   ],
   "source": [
    "#Show Solution\n",
    "for v in model_2.getVars():\n",
    "    print('%s %g' % (v.VarName, v.X))\n",
    "print('Obj: %g' % model_2.ObjVal)\n"
   ]
  },
  {
   "cell_type": "markdown",
   "metadata": {},
   "source": [
    "**Now you Try!**"
   ]
  },
  {
   "cell_type": "markdown",
   "metadata": {},
   "source": [
    "Now that we've introduced the basics, let's try some more problems. They look slightly different from our first example, but hopefully, they'll help you to identify the objective function and constraints. There are some practice questions to help you along as you go, so don't be afraid to make guesses and experiment!"
   ]
  },
  {
   "cell_type": "markdown",
   "metadata": {},
   "source": [
    "- **Note:** from here on out in the notebook we will note explicitly say our decision variables must be positive (ex. $x>0$) as Gurobi sets this value by default when we declare variables. This can be modified, but in most applications the decision variable is positive."
   ]
  },
  {
   "cell_type": "markdown",
   "metadata": {},
   "source": [
    "#### Problem 1"
   ]
  },
  {
   "cell_type": "markdown",
   "metadata": {},
   "source": [
    "Problem Statement:\n",
    "Problem Statement: Imagine you are managing disaster relief efforts, and you need to allocate resources between two critical supplies: water bottles ($w$) and emergency food packs ($f$). Your goal is to maximize the number of relief items delivered to an affected area.\n",
    "\n",
    "- Each water bottle provides essential hydration and is valued at 3 units of relief.\n",
    "- Each food pack provides vital nutrition and is valued at 5 units of relief.\n",
    "\n",
    "However, you face the following constraints:\n",
    "\n",
    "1.\tYou have a total cargo space that can carry up to 100 units.\n",
    "2.\tEach water bottle takes up 2 units of cargo space.\n",
    "3.\tEach food pack takes up 4 units of cargo space."
   ]
  },
  {
   "cell_type": "code",
   "execution_count": 22,
   "metadata": {},
   "outputs": [
    {
     "name": "stdout",
     "output_type": "stream",
     "text": [
      "\u001b[1m 1) What is the Objective Function? \u001b[0m\n"
     ]
    },
    {
     "data": {
      "application/vnd.jupyter.widget-view+json": {
       "model_id": "9665738424c14537879eaba040d2af80",
       "version_major": 2,
       "version_minor": 0
      },
      "text/plain": [
       "RadioButtons(options=(('w+f', 1), ('3w+5f', 2), ('2w+4f', 3)), value=1)"
      ]
     },
     "metadata": {},
     "output_type": "display_data"
    },
    {
     "data": {
      "application/vnd.jupyter.widget-view+json": {
       "model_id": "34f723bae1c642d7bcd2cd69ef97469b",
       "version_major": 2,
       "version_minor": 0
      },
      "text/plain": [
       "Button(description='Check', style=ButtonStyle())"
      ]
     },
     "metadata": {},
     "output_type": "display_data"
    },
    {
     "data": {
      "application/vnd.jupyter.widget-view+json": {
       "model_id": "adb54e190f594e50bdd7fea1905a9797",
       "version_major": 2,
       "version_minor": 0
      },
      "text/plain": [
       "Output()"
      ]
     },
     "metadata": {},
     "output_type": "display_data"
    },
    {
     "name": "stdout",
     "output_type": "stream",
     "text": [
      "\u001b[1m 2) Which equation represents the cargo space constraint? \u001b[0m\n"
     ]
    },
    {
     "data": {
      "application/vnd.jupyter.widget-view+json": {
       "model_id": "361d1896876e4890b0e5913b46a9739e",
       "version_major": 2,
       "version_minor": 0
      },
      "text/plain": [
       "RadioButtons(options=(('2w+4f', 1), ('w+f', 2), ('3w+5f', 3)), value=1)"
      ]
     },
     "metadata": {},
     "output_type": "display_data"
    },
    {
     "data": {
      "application/vnd.jupyter.widget-view+json": {
       "model_id": "15aff1f906af48d59715a66d5d3a6d9f",
       "version_major": 2,
       "version_minor": 0
      },
      "text/plain": [
       "Button(description='Check', style=ButtonStyle())"
      ]
     },
     "metadata": {},
     "output_type": "display_data"
    },
    {
     "data": {
      "application/vnd.jupyter.widget-view+json": {
       "model_id": "e1be915b192b4162ac3f921244cf44b7",
       "version_major": 2,
       "version_minor": 0
      },
      "text/plain": [
       "Output()"
      ]
     },
     "metadata": {},
     "output_type": "display_data"
    },
    {
     "name": "stdout",
     "output_type": "stream",
     "text": [
      "\u001b[1m 3) Which equation represents the limit on the number of food packs? \u001b[0m\n"
     ]
    },
    {
     "data": {
      "application/vnd.jupyter.widget-view+json": {
       "model_id": "348da42a25044b5ab7b5ea17b3f9b2a4",
       "version_major": 2,
       "version_minor": 0
      },
      "text/plain": [
       "RadioButtons(options=(('f <= 30', 1), ('w + f <= 50', 2), ('2w + 4f <= 100', 3)), value=1)"
      ]
     },
     "metadata": {},
     "output_type": "display_data"
    },
    {
     "data": {
      "application/vnd.jupyter.widget-view+json": {
       "model_id": "69b2f1a9a492410e805e8e469ef4ec9d",
       "version_major": 2,
       "version_minor": 0
      },
      "text/plain": [
       "Button(description='Check', style=ButtonStyle())"
      ]
     },
     "metadata": {},
     "output_type": "display_data"
    },
    {
     "data": {
      "application/vnd.jupyter.widget-view+json": {
       "model_id": "df8f0e21eee34e9e96def634016db6f1",
       "version_major": 2,
       "version_minor": 0
      },
      "text/plain": [
       "Output()"
      ]
     },
     "metadata": {},
     "output_type": "display_data"
    }
   ],
   "source": [
    "problem_1()"
   ]
  },
  {
   "cell_type": "markdown",
   "metadata": {},
   "source": [
    "Great, now try to implement it! Remember you can always look back at the last section and if you get stuck.  We also have the answer key available as you scroll further down (so try not to read ahead)!"
   ]
  },
  {
   "cell_type": "markdown",
   "metadata": {},
   "source": [
    "**1. Instantiate The Solver**"
   ]
  },
  {
   "cell_type": "code",
   "execution_count": 23,
   "metadata": {},
   "outputs": [],
   "source": [
    "#Instantiate Here"
   ]
  },
  {
   "cell_type": "markdown",
   "metadata": {},
   "source": [
    "**2 Add the Variables**"
   ]
  },
  {
   "cell_type": "code",
   "execution_count": 24,
   "metadata": {},
   "outputs": [],
   "source": [
    "#Add Vars Here"
   ]
  },
  {
   "cell_type": "markdown",
   "metadata": {},
   "source": [
    "**3 Add the Constraints**"
   ]
  },
  {
   "cell_type": "code",
   "execution_count": 25,
   "metadata": {},
   "outputs": [],
   "source": [
    "#Add Constraints Here"
   ]
  },
  {
   "cell_type": "markdown",
   "metadata": {},
   "source": [
    "**4 Add the Objective Function**"
   ]
  },
  {
   "cell_type": "code",
   "execution_count": 26,
   "metadata": {},
   "outputs": [],
   "source": [
    "#Add Obj. Func. Here"
   ]
  },
  {
   "cell_type": "markdown",
   "metadata": {},
   "source": [
    "**5 Solve!**"
   ]
  },
  {
   "cell_type": "code",
   "execution_count": 27,
   "metadata": {},
   "outputs": [],
   "source": [
    "#Solve Here!"
   ]
  },
  {
   "cell_type": "markdown",
   "metadata": {},
   "source": [
    "##### Problem 1 Answer Key"
   ]
  },
  {
   "cell_type": "markdown",
   "metadata": {},
   "source": [
    "Remember, this is one possible solution, just because your code doesn't look identical, doesn't mean it's wrong!"
   ]
  },
  {
   "cell_type": "code",
   "execution_count": 28,
   "metadata": {},
   "outputs": [
    {
     "name": "stdout",
     "output_type": "stream",
     "text": [
      "Gurobi Optimizer version 11.0.3 build v11.0.3rc0 (mac64[rosetta2] - Darwin 23.6.0 23G80)\n",
      "\n",
      "CPU model: Apple M1\n",
      "Thread count: 8 physical cores, 8 logical processors, using up to 8 threads\n",
      "\n",
      "Optimize a model with 1 rows, 2 columns and 2 nonzeros\n",
      "Model fingerprint: 0x451e4b4f\n",
      "Variable types: 0 continuous, 2 integer (0 binary)\n",
      "Coefficient statistics:\n",
      "  Matrix range     [2e+00, 4e+00]\n",
      "  Objective range  [3e+00, 5e+00]\n",
      "  Bounds range     [0e+00, 0e+00]\n",
      "  RHS range        [1e+02, 1e+02]\n",
      "Found heuristic solution: objective 150.0000000\n",
      "Presolve removed 1 rows and 2 columns\n",
      "Presolve time: 0.00s\n",
      "Presolve: All rows and columns removed\n",
      "\n",
      "Explored 0 nodes (0 simplex iterations) in 0.01 seconds (0.00 work units)\n",
      "Thread count was 1 (of 8 available processors)\n",
      "\n",
      "Solution count 1: 150 \n",
      "\n",
      "Optimal solution found (tolerance 1.00e-04)\n",
      "Best objective 1.500000000000e+02, best bound 1.500000000000e+02, gap 0.0000%\n",
      "Optimal number of Water Bottles (w): 50\n",
      "Optimal number of Food Packs (f): 0\n",
      "Maximum Relief Value: 150.0\n"
     ]
    }
   ],
   "source": [
    "#1 Instantiate The Solver\n",
    "model = gp.Model('DisasterReliefAllocation')\n",
    "\n",
    "#2 Add the variables for the number of water bottles (w) and food packs (f)\n",
    "w = model.addVar(vtype=GRB.INTEGER, name='WaterBottles')\n",
    "f = model.addVar(vtype=GRB.INTEGER, name='FoodPacks')\n",
    "\n",
    "#3 Add the constraint for the total cargo space\n",
    "model.addConstr(2 * w + 4 * f <= 100, 'CargoSpace')\n",
    "\n",
    "#4 Add the objective function: Maximize the total value of relief items\n",
    "model.setObjective(3 * w + 5 * f, GRB.MAXIMIZE)\n",
    "\n",
    "#5 Optimize the model\n",
    "model.optimize()\n",
    "\n",
    "# Print the optimal solution\n",
    "if model.status == GRB.OPTIMAL:\n",
    "    print(f\"Optimal number of Water Bottles (w): {int(w.x)}\")\n",
    "    print(f\"Optimal number of Food Packs (f): {int(f.x)}\")\n",
    "    print(f\"Maximum Relief Value: {model.objVal}\")\n",
    "else:\n",
    "    print(\"No optimal solution found.\")"
   ]
  },
  {
   "cell_type": "markdown",
   "metadata": {},
   "source": [
    "#### Problem 2"
   ]
  },
  {
   "cell_type": "markdown",
   "metadata": {},
   "source": [
    "Before diving into the next example, we wanted to take a second to mention a great resource by an expert on the Gurobi team talking about implementing models. It's a little more comprehensive than our current examples, but if you want to see how an expert thinks about this problem, [it's incredibly useful!](https://www.gurobi.com/resources/optimization-modeling-the-art-of-not-making-it-an-art/)"
   ]
  },
  {
   "cell_type": "markdown",
   "metadata": {},
   "source": [
    "- **Note:** NOTE: The following example is based on examples from [Gurobi’s MOOC for Udemy](https://www.gurobi.com/resources/intro-to-optimization-through-the-lens-of-data-science/)\n",
    "\n",
    "A non-govermental-organization (NGO) and a manufacturing firm are partnering up to produce supplies to prepare for hurricane season. The NGO predicts that there will be a maximum demand of up to 100 packs of blankets, 70 packs of towels, and 40 packs of sleeping bags. Let's say making these items requires two precision machining steps: weaving and packaging. The table below shows how many minutes are to produce each type of disaster relief item:"
   ]
  },
  {
   "cell_type": "markdown",
   "metadata": {},
   "source": [
    "|          | Weaving    | Packaging | \n",
    "| -------- | ------- | -------|\n",
    "| Blankets  | 10    |15   |\n",
    "| Towels | 8    |18  |\n",
    "| Sleeping Bags    | 12    |17   |"
   ]
  },
  {
   "cell_type": "markdown",
   "metadata": {},
   "source": [
    "To allow for maintenance and downtime, the company does not want to run its machines beyond a certain limit. The total time available on the machines is 2,500 hours for weaving and 2,000 hours for packaging."
   ]
  },
  {
   "cell_type": "markdown",
   "metadata": {},
   "source": [
    "Once items are manufactured, they go to a quality control tester. They are contracted to test exactly 150 items for this upcoming season, no more and no less. Therefore, the company must manufacture exactly 150 items."
   ]
  },
  {
   "cell_type": "markdown",
   "metadata": {},
   "source": [
    "Now for the final step, let's consider how many people each pack of items can satisfy:"
   ]
  },
  {
   "cell_type": "markdown",
   "metadata": {},
   "source": [
    "|          | People Served     | \n",
    "| -------- | ------- |\n",
    "| Blankets  | 6   |\n",
    "| Towels | 7   |\n",
    "| Sleeping Bags    | 10  |"
   ]
  },
  {
   "cell_type": "code",
   "execution_count": 155,
   "metadata": {},
   "outputs": [],
   "source": [
    "#Implement your solution here"
   ]
  },
  {
   "cell_type": "markdown",
   "metadata": {},
   "source": [
    "##### Problem 2 Answer Key"
   ]
  },
  {
   "cell_type": "code",
   "execution_count": 29,
   "metadata": {},
   "outputs": [
    {
     "name": "stdout",
     "output_type": "stream",
     "text": [
      "Gurobi Optimizer version 11.0.3 build v11.0.3rc0 (mac64[rosetta2] - Darwin 23.6.0 23G80)\n",
      "\n",
      "CPU model: Apple M1\n",
      "Thread count: 8 physical cores, 8 logical processors, using up to 8 threads\n",
      "\n",
      "Optimize a model with 6 rows, 3 columns and 12 nonzeros\n",
      "Model fingerprint: 0x00f9ccc8\n",
      "Variable types: 0 continuous, 3 integer (0 binary)\n",
      "Coefficient statistics:\n",
      "  Matrix range     [1e+00, 2e+01]\n",
      "  Objective range  [6e+00, 1e+01]\n",
      "  Bounds range     [0e+00, 0e+00]\n",
      "  RHS range        [4e+01, 2e+03]\n",
      "Presolve removed 6 rows and 3 columns\n",
      "Presolve time: 0.00s\n",
      "Presolve: All rows and columns removed\n",
      "\n",
      "Explored 0 nodes (0 simplex iterations) in 0.01 seconds (0.00 work units)\n",
      "Thread count was 1 (of 8 available processors)\n",
      "\n",
      "Solution count 1: 1083 \n",
      "\n",
      "Optimal solution found (tolerance 1.00e-04)\n",
      "Best objective 1.083000000000e+03, best bound 1.083000000000e+03, gap 0.0000%\n"
     ]
    }
   ],
   "source": [
    "m = gp.Model(\"instrument\") \n",
    " \n",
    "# make decision Var\n",
    "# this is the qunatity of each instrument\n",
    "x = m.addVars(3, vtype=GRB.INTEGER,name=\"x\") \n",
    "m.setObjective(6*x[0] + 7*x[1] + 10*x[2],GRB.MAXIMIZE) \n",
    "\n",
    "m.addConstr(10*x[0] + 8*x[1]  + 12*x[2] <= 2000, name='Weaving') \n",
    "m.addConstr(15*x[0] + 18*x[1] + 17*x[2] <= 2400, name='Packaging') \n",
    "m.addConstr(x.sum() == 150, name='Total_Supplies') \n",
    " \n",
    "m.addConstr(x[0] <= 100, name='max_100_Blankets_demand') \n",
    "m.addConstr(x[1] <= 70, name='max_70_Towels_demand') \n",
    "m.addConstr(x[2] <= 40, name='max_40_SleepBags_demand') \n",
    "m.optimize()\n"
   ]
  },
  {
   "cell_type": "code",
   "execution_count": 30,
   "metadata": {},
   "outputs": [
    {
     "name": "stdout",
     "output_type": "stream",
     "text": [
      "x[0] 87\n",
      "x[1] 23\n",
      "x[2] 40\n",
      "Obj: 1083\n",
      "150.0\n"
     ]
    }
   ],
   "source": [
    "#Show Solution\n",
    "a=0\n",
    "for v in m.getVars():\n",
    "    print('%s %g' % (v.VarName, v.X))\n",
    "    a+=v.X\n",
    "print('Obj: %g' % m.ObjVal)\n",
    "print(a)\n"
   ]
  },
  {
   "cell_type": "code",
   "execution_count": 31,
   "metadata": {},
   "outputs": [
    {
     "name": "stdout",
     "output_type": "stream",
     "text": [
      "[<gurobi.Constr Total_Supplies>, <gurobi.Constr max_40_SleepBags_demand>]\n"
     ]
    }
   ],
   "source": [
    "binding = [c for c in m.getConstrs() if abs(c.Slack) < 1e-6]\n",
    "print(binding)"
   ]
  },
  {
   "cell_type": "code",
   "execution_count": 32,
   "metadata": {},
   "outputs": [
    {
     "name": "stdout",
     "output_type": "stream",
     "text": [
      "466.0\n",
      "1.0\n",
      "0.0\n",
      "13.0\n",
      "47.0\n",
      "0.0\n"
     ]
    }
   ],
   "source": [
    "for c in m.getConstrs():\n",
    "    print(c.Slack)"
   ]
  },
  {
   "cell_type": "markdown",
   "metadata": {},
   "source": [
    "### 2.2 Intro to the ESUPS Optimization Model\n"
   ]
  },
  {
   "cell_type": "markdown",
   "metadata": {},
   "source": [
    "Now that you're familiar with the basics, let's start looking at the actual model. We'll start with a simplified version of the model, and we'll build from there.\n",
    "\n",
    "Consider the scenario where we're expecting to have a disaster and want to pre-position supplies in order to respond as quickly as possible. Perhaps it's hurricane season or a volcano has been showing increasing activity. As we have seen in past problems, we have to set up the variables, constraints, and objective functions. So first let's define our decision variables, i.e. the things we can vary."
   ]
  },
  {
   "cell_type": "markdown",
   "metadata": {},
   "source": [
    "Let:\n",
    "\n",
    "- $\\tau_{ij}$ be the time to ship a single item from warehouse $i$ to the disaster\n",
    "\n",
    "- $y_i$ be the amount of supplies to send from warehouse $i$ to our disaster\n",
    "\n",
    "- $x_i$ be the starting inventory at each warehouse\n",
    "\n",
    "- $d$ be the demand for an item\n"
   ]
  },
  {
   "cell_type": "markdown",
   "metadata": {},
   "source": [
    "Now that we have described what we can change with our variables, we can figure out how to represent the objective function!\n",
    "$$\n",
    "\\min_y \\sum_i \\tau_{i}\\cdot y_i\n",
    "\n",
    "$$"
   ]
  },
  {
   "cell_type": "markdown",
   "metadata": {},
   "source": [
    "and the constraints are:\n",
    "\n",
    "$$\n",
    "\\begin{aligned}\n",
    "\n",
    "\n",
    "\\text{s.t.}  & \\sum_{i} & y_{i}&=d & & \\hspace{.2cm} \\text{(total supplies sent must meet demand)}\\\\\n",
    "\n",
    "& & y_i       &\\leq x_i & \\forall i \\in I& \\hspace{.2cm}\\text{(you can't send more than a warehouse has)}\\\\\n",
    "\n",
    " &\\text{} & y_{i} &\\geq 0 &\\forall i \\in I& \\hspace{.2cm} \\text{(you can't send negative supplies)}\n",
    "\\end{aligned}\n",
    "$$"
   ]
  },
  {
   "cell_type": "markdown",
   "metadata": {},
   "source": [
    "So now let's solve this model. "
   ]
  },
  {
   "cell_type": "markdown",
   "metadata": {},
   "source": [
    "##### Make The model"
   ]
  },
  {
   "cell_type": "code",
   "execution_count": null,
   "metadata": {},
   "outputs": [],
   "source": [
    "#prep distance matrix\n",
    "df_distance, relevant_warehouses, BucketsNeeded = get_distance_matrix(dataset)\n",
    "t = df_distance.drivingTime_hrs\n",
    "n = len(relevant_warehouses)\n",
    "\n",
    "# Create model\n",
    "model = gp.Model(\"simple_Allocation\") \n",
    "\n",
    "#Add Decision Var\n",
    "y=model.addVars(n, vtype=GRB.INTEGER, name=\"Warehouse_Allocation\")\n",
    "\n",
    "#Add constraint to meet demand\n",
    "model.addConstr(gp.quicksum(y[i] for i in range(n))==BucketsNeeded,name='Meet_Demand')\n",
    "\n",
    "# Add in warehouse_constraints\n",
    "for i, supplies in enumerate(relevant_warehouses):\n",
    "    model.addConstr(y[i] <= supplies[2], name=f\"warehouse_endowment_{i}\")\n",
    "\n",
    "# Add objective\n",
    "objective = gp.quicksum(t[i] * y[i] for i in range(n))\n",
    "model.setObjective(objective, GRB.MINIMIZE)\n"
   ]
  },
  {
   "cell_type": "code",
   "execution_count": 64,
   "metadata": {},
   "outputs": [
    {
     "name": "stdout",
     "output_type": "stream",
     "text": [
      "Gurobi Optimizer version 11.0.3 build v11.0.3rc0 (mac64[rosetta2] - Darwin 23.6.0 23G80)\n",
      "\n",
      "CPU model: Apple M1\n",
      "Thread count: 8 physical cores, 8 logical processors, using up to 8 threads\n",
      "\n",
      "Optimize a model with 33 rows, 32 columns and 48 nonzeros\n",
      "Model fingerprint: 0xfec0ae5a\n",
      "Model has 16 quadratic objective terms\n",
      "Variable types: 0 continuous, 32 integer (0 binary)\n",
      "Coefficient statistics:\n",
      "  Matrix range     [1e+00, 1e+00]\n",
      "  Objective range  [0e+00, 0e+00]\n",
      "  QObjective range [2e+00, 2e+00]\n",
      "  Bounds range     [0e+00, 0e+00]\n",
      "  RHS range        [3e+00, 1e+04]\n",
      "Presolved: 1 rows, 13 columns, 13 nonzeros\n",
      "\n",
      "Continuing optimization...\n",
      "\n",
      "\n",
      "Explored 1 nodes (1 simplex iterations) in 0.01 seconds (0.00 work units)\n",
      "Thread count was 8 (of 8 available processors)\n",
      "\n",
      "Solution count 3: 98293 185480 185541 \n",
      "\n",
      "Optimal solution found (tolerance 1.00e-04)\n",
      "Best objective 9.829300000000e+04, best bound 9.829300000000e+04, gap 0.0000%\n"
     ]
    }
   ],
   "source": [
    "model.optimize()"
   ]
  },
  {
   "cell_type": "markdown",
   "metadata": {},
   "source": [
    "Now Let's Anaylize the results!"
   ]
  },
  {
   "cell_type": "code",
   "execution_count": null,
   "metadata": {},
   "outputs": [
    {
     "data": {
      "text/html": [
       "<div>\n",
       "<style scoped>\n",
       "    .dataframe tbody tr th:only-of-type {\n",
       "        vertical-align: middle;\n",
       "    }\n",
       "\n",
       "    .dataframe tbody tr th {\n",
       "        vertical-align: top;\n",
       "    }\n",
       "\n",
       "    .dataframe thead th {\n",
       "        text-align: right;\n",
       "    }\n",
       "</style>\n",
       "<table border=\"1\" class=\"dataframe\">\n",
       "  <thead>\n",
       "    <tr style=\"text-align: right;\">\n",
       "      <th></th>\n",
       "      <th>Var</th>\n",
       "      <th>amount</th>\n",
       "      <th>possible</th>\n",
       "      <th>distance</th>\n",
       "    </tr>\n",
       "  </thead>\n",
       "  <tbody>\n",
       "    <tr>\n",
       "      <th>1</th>\n",
       "      <td>Warehouse_Allocation[1]</td>\n",
       "      <td>26.0</td>\n",
       "      <td>26</td>\n",
       "      <td>0.00</td>\n",
       "    </tr>\n",
       "    <tr>\n",
       "      <th>4</th>\n",
       "      <td>Warehouse_Allocation[4]</td>\n",
       "      <td>9046.0</td>\n",
       "      <td>9046</td>\n",
       "      <td>6.00</td>\n",
       "    </tr>\n",
       "    <tr>\n",
       "      <th>11</th>\n",
       "      <td>Warehouse_Allocation[11]</td>\n",
       "      <td>3.0</td>\n",
       "      <td>3</td>\n",
       "      <td>7.00</td>\n",
       "    </tr>\n",
       "    <tr>\n",
       "      <th>14</th>\n",
       "      <td>Warehouse_Allocation[14]</td>\n",
       "      <td>1580.0</td>\n",
       "      <td>1580</td>\n",
       "      <td>8.00</td>\n",
       "    </tr>\n",
       "    <tr>\n",
       "      <th>5</th>\n",
       "      <td>Warehouse_Allocation[5]</td>\n",
       "      <td>610.0</td>\n",
       "      <td>610</td>\n",
       "      <td>10.00</td>\n",
       "    </tr>\n",
       "    <tr>\n",
       "      <th>2</th>\n",
       "      <td>Warehouse_Allocation[2]</td>\n",
       "      <td>-0.0</td>\n",
       "      <td>41</td>\n",
       "      <td>11.00</td>\n",
       "    </tr>\n",
       "    <tr>\n",
       "      <th>7</th>\n",
       "      <td>Warehouse_Allocation[7]</td>\n",
       "      <td>2296.0</td>\n",
       "      <td>6689</td>\n",
       "      <td>11.00</td>\n",
       "    </tr>\n",
       "    <tr>\n",
       "      <th>0</th>\n",
       "      <td>Warehouse_Allocation[0]</td>\n",
       "      <td>0.0</td>\n",
       "      <td>375</td>\n",
       "      <td>14.00</td>\n",
       "    </tr>\n",
       "    <tr>\n",
       "      <th>9</th>\n",
       "      <td>Warehouse_Allocation[9]</td>\n",
       "      <td>-0.0</td>\n",
       "      <td>2460</td>\n",
       "      <td>14.25</td>\n",
       "    </tr>\n",
       "    <tr>\n",
       "      <th>8</th>\n",
       "      <td>Warehouse_Allocation[8]</td>\n",
       "      <td>0.0</td>\n",
       "      <td>150</td>\n",
       "      <td>16.00</td>\n",
       "    </tr>\n",
       "    <tr>\n",
       "      <th>12</th>\n",
       "      <td>Warehouse_Allocation[12]</td>\n",
       "      <td>-0.0</td>\n",
       "      <td>736</td>\n",
       "      <td>16.00</td>\n",
       "    </tr>\n",
       "    <tr>\n",
       "      <th>10</th>\n",
       "      <td>Warehouse_Allocation[10]</td>\n",
       "      <td>-0.0</td>\n",
       "      <td>4235</td>\n",
       "      <td>17.00</td>\n",
       "    </tr>\n",
       "    <tr>\n",
       "      <th>6</th>\n",
       "      <td>Warehouse_Allocation[6]</td>\n",
       "      <td>-0.0</td>\n",
       "      <td>5201</td>\n",
       "      <td>19.00</td>\n",
       "    </tr>\n",
       "    <tr>\n",
       "      <th>15</th>\n",
       "      <td>Warehouse_Allocation[15]</td>\n",
       "      <td>-0.0</td>\n",
       "      <td>1637</td>\n",
       "      <td>22.00</td>\n",
       "    </tr>\n",
       "    <tr>\n",
       "      <th>13</th>\n",
       "      <td>Warehouse_Allocation[13]</td>\n",
       "      <td>-0.0</td>\n",
       "      <td>5700</td>\n",
       "      <td>23.00</td>\n",
       "    </tr>\n",
       "    <tr>\n",
       "      <th>3</th>\n",
       "      <td>Warehouse_Allocation[3]</td>\n",
       "      <td>-0.0</td>\n",
       "      <td>2322</td>\n",
       "      <td>26.00</td>\n",
       "    </tr>\n",
       "  </tbody>\n",
       "</table>\n",
       "</div>"
      ],
      "text/plain": [
       "                         Var  amount  possible  distance\n",
       "1    Warehouse_Allocation[1]    26.0        26      0.00\n",
       "4    Warehouse_Allocation[4]  9046.0      9046      6.00\n",
       "11  Warehouse_Allocation[11]     3.0         3      7.00\n",
       "14  Warehouse_Allocation[14]  1580.0      1580      8.00\n",
       "5    Warehouse_Allocation[5]   610.0       610     10.00\n",
       "2    Warehouse_Allocation[2]    -0.0        41     11.00\n",
       "7    Warehouse_Allocation[7]  2296.0      6689     11.00\n",
       "0    Warehouse_Allocation[0]     0.0       375     14.00\n",
       "9    Warehouse_Allocation[9]    -0.0      2460     14.25\n",
       "8    Warehouse_Allocation[8]     0.0       150     16.00\n",
       "12  Warehouse_Allocation[12]    -0.0       736     16.00\n",
       "10  Warehouse_Allocation[10]    -0.0      4235     17.00\n",
       "6    Warehouse_Allocation[6]    -0.0      5201     19.00\n",
       "15  Warehouse_Allocation[15]    -0.0      1637     22.00\n",
       "13  Warehouse_Allocation[13]    -0.0      5700     23.00\n",
       "3    Warehouse_Allocation[3]    -0.0      2322     26.00"
      ]
     },
     "execution_count": 65,
     "metadata": {},
     "output_type": "execute_result"
    }
   ],
   "source": [
    "#Show Solution\n",
    "b=[]\n",
    "for v, total, dis in zip(model.getVars(),relevant_warehouses,list(df_distance['drivingTime_hrs'])):\n",
    "    if v.VarName[0:20]== 'Warehouse_Allocation':\n",
    "        #print('%s %g | total= %g | distance=%g' % (v.VarName, v.X,total[2],dis))\n",
    "        b.append([v.VarName, v.X,total[2],dis])\n",
    "b=pd.DataFrame(b)\n",
    "b.columns=['Var','amount','possible','distance' ]\n",
    "b.sort_values('distance')"
   ]
  },
  {
   "cell_type": "markdown",
   "metadata": {},
   "source": [
    "Now you may have noticed that this feels like overkill. If we want to position supplies to respond to a known disaster, you might think that we should just put them as close as possible. It's an intuitive solution that can be solved with a simple greedy algorithm. But of course, life is never that simple. \n",
    "\n",
    "Now that we've got the initial problem outlined, let's start making it more realistic with two additions:\n",
    "1.\tInstead of preparing for only one disaster, let's prepare for all the disasters that might occur.\n",
    "2.\tInstead of being an omniscient observer, let's say we aren't sure where the next disaster will be\n",
    "\n",
    "\n"
   ]
  },
  {
   "cell_type": "markdown",
   "metadata": {},
   "source": [
    "Now, these assumptions might be intimidating at first. How do you rigorously model information we don't know? Isn't this the realm of predictive models?\n",
    "\n",
    "This reaction is totally normal and indeed we often use predictive modeling when our information is incomplete, however, remember that this problem isn't easily suited to ML techniques due to the low availability of data, small feature space, and large solution space. So how do we approach this with optimization? Well now that we know how supplies will be dispensed for a given warehouse allocation, we can leverage the small set of historical disasters we do have to ask which allocations would have saved/minimized the time taken to respond to all of the disasters. Then our optimization techniques will give us a small number that could feasibly satisfy this (where our constraints meet, see the introduction for more on this) and we can just iterate over them.\n",
    "\n",
    "So how do we go about it in practice?"
   ]
  },
  {
   "cell_type": "markdown",
   "metadata": {},
   "source": [
    "### 2.3 Including All Disasters"
   ]
  },
  {
   "cell_type": "markdown",
   "metadata": {},
   "source": [
    "Before we begin, let's explicitly define our new problem with the additional requirements outlined in the previous section so we're all on the same page. Our first step is to add in the fact that there are more disasters than just one. We can do that by including a variable to denote which disaster we're talking about\n",
    "\n",
    "Let:\n",
    "\n",
    "- $k$ the disaster scenario at hand i.e. a storm, earthquake, or epidemic\n",
    "\n",
    "- $j$ be the location of the disaster"
   ]
  },
  {
   "cell_type": "markdown",
   "metadata": {},
   "source": [
    "In scenario $k$ with the disaster located at $j$, the time for a warehouse $i$  to send $y_i$ items is "
   ]
  },
  {
   "cell_type": "markdown",
   "metadata": {},
   "source": [
    " $$\\tau_{ij}\\cdot y^k_i$$"
   ]
  },
  {
   "cell_type": "markdown",
   "metadata": {},
   "source": [
    "Repeating for all warehouses gives us"
   ]
  },
  {
   "cell_type": "markdown",
   "metadata": {},
   "source": [
    "$$  \\sum_i \\tau_{ij}\\cdot y^k_i $$\n"
   ]
  },
  {
   "cell_type": "markdown",
   "metadata": {},
   "source": [
    "Repeating for all disasters gives us"
   ]
  },
  {
   "cell_type": "markdown",
   "metadata": {},
   "source": [
    "$$ \\sum_k \\sum_i \\tau_{ij}\\cdot y^k_i $$\n"
   ]
  },
  {
   "cell_type": "markdown",
   "metadata": {},
   "source": [
    "This formulation doesn't change any of the solutions we found in the last section, instead, it's leveraging the power of our notation to be able to solve for the optimal allocation for every disaster in one fell swoop! It's been a while since we looked at the original problem in its entirety, so let's take a step back to understand why this is so important.\n",
    "\n",
    "The question that ESUPS, and subsequently this model, set out to solve is: where should disaster relief supplies be stored in a country to ensure it is as fast and cheap as possible to get them to people in need in the event of a disaster<sup>1</sup>? By comparing the overall travel time for every single disaster that we have data on, we can make determinations on whether storing different quantities of materials in different warehouses would be better or worse given our historical data.\n",
    "\n",
    "\n",
    "<sup>1: Remember that the model we're looking at is specifically for time, to solve for cost we would replace our time variable with a cost variable  </sup> $^{\\tau_{ij}}$ <sup>with a cost variable </sup> $^{c_{ij}}$"
   ]
  },
  {
   "cell_type": "markdown",
   "metadata": {},
   "source": [
    "Before we get to solving, let's add in one more small factor. Different disasters occur at different rates. A landlocked nation may be less likely to experience a disaster caused by a tropical storm than an earthquake, so shouldn't we weigh the response time to earthquakes more than that of a storm?"
   ]
  },
  {
   "cell_type": "markdown",
   "metadata": {},
   "source": [
    "### 2.4 Accounting for Randomness"
   ]
  },
  {
   "cell_type": "markdown",
   "metadata": {},
   "source": [
    "One of the most difficult tasks that we can encounter in data science problems is randomness or as it's often called \"stochastic\" elements. This can be seen in all kinds of ways, but in our case study, we're going to look at how we account for not knowing which disaster will hit next or even several years in the future. The way we do this is to create a stochastic model, which may initially seem intimidating, but in discrete events like this, it's super easy.\n",
    "\n",
    "If you're familiar with expected value this will quickly make sense, but no need to have any prior experience! The idea is that we weigh the outcome of the event (i.e. total travel time in this case) by the probability it occurs. So, if an earthquake is 3 times as likely as a flood, we would rewrite the equation as:\n",
    "\n",
    "$$.75 \\cdot\\text{(travel time earthquake)} + .25 \\cdot\\text{(travel time flood)} $$\n"
   ]
  },
  {
   "cell_type": "markdown",
   "metadata": {},
   "source": [
    "#### 2.4.1 More On Expected Value"
   ]
  },
  {
   "cell_type": "markdown",
   "metadata": {},
   "source": [
    "If you haven't seen expected value before or if it's just a been a while and you'd like a refresher, try some of the practice problems below!"
   ]
  },
  {
   "cell_type": "markdown",
   "metadata": {},
   "source": [
    "When we solve expected value for discrete outcomes, we take the value/outcome/payoff of each possible event and discount it by the probability that it actually occurs. So it follows the form\n",
    "\n",
    "$$\n",
    "E[X]=p_1(x_1)+p_2(x_2)+ ... + p_n(x_n)\n",
    "$$\n",
    "To simplify this notation we typically write this as a series:\n",
    "\n",
    "$$\n",
    "E[X]=\\sum_{i=1}^{i=n} p_i \\cdot x_i\n",
    "$$\n",
    "\n",
    "Try some of the problems below to get a better feel for it!"
   ]
  },
  {
   "cell_type": "markdown",
   "metadata": {},
   "source": [
    "**Starter Problems**"
   ]
  },
  {
   "cell_type": "markdown",
   "metadata": {},
   "source": [
    "##### Coin Flip: "
   ]
  },
  {
   "cell_type": "markdown",
   "metadata": {},
   "source": [
    "Suppose we play a coin flipping game. Every time we flip the coin and it lands on heads, you get a dollar, and every time it lands on tails, you have to pay a dollar. How much are you expected to make or lose when playing this game?"
   ]
  },
  {
   "cell_type": "code",
   "execution_count": 37,
   "metadata": {},
   "outputs": [
    {
     "name": "stdout",
     "output_type": "stream",
     "text": [
      "\u001b[1m 1) What is the Objective Function? \u001b[0m\n"
     ]
    },
    {
     "data": {
      "application/vnd.jupyter.widget-view+json": {
       "model_id": "5fdae22271cf48789dc0fd35180320c8",
       "version_major": 2,
       "version_minor": 0
      },
      "text/plain": [
       "RadioButtons(options=(('-1', 1), ('0', 2), ('1', 3)), value=1)"
      ]
     },
     "metadata": {},
     "output_type": "display_data"
    },
    {
     "data": {
      "application/vnd.jupyter.widget-view+json": {
       "model_id": "fa0898d5db0a4eb181b6acb3c3a78825",
       "version_major": 2,
       "version_minor": 0
      },
      "text/plain": [
       "Button(description='Check', style=ButtonStyle())"
      ]
     },
     "metadata": {},
     "output_type": "display_data"
    },
    {
     "data": {
      "application/vnd.jupyter.widget-view+json": {
       "model_id": "334b1d4f419344a28bb421d64457b720",
       "version_major": 2,
       "version_minor": 0
      },
      "text/plain": [
       "Output()"
      ]
     },
     "metadata": {},
     "output_type": "display_data"
    }
   ],
   "source": [
    "q_3_1()"
   ]
  },
  {
   "cell_type": "markdown",
   "metadata": {},
   "source": [
    "##### Coin Flip Varient: "
   ]
  },
  {
   "cell_type": "markdown",
   "metadata": {},
   "source": [
    "Now, let's change the game a little, say you now get 5 paid dollars when the coin lands on heads and only have to pay 3 dollars when it lands on tails. Would you play? How much are you expected to make or lose when playing this game?"
   ]
  },
  {
   "cell_type": "code",
   "execution_count": 38,
   "metadata": {},
   "outputs": [
    {
     "name": "stdout",
     "output_type": "stream",
     "text": [
      "\u001b[1m 1) What is the Objective Function? \u001b[0m\n"
     ]
    },
    {
     "data": {
      "application/vnd.jupyter.widget-view+json": {
       "model_id": "4fad507aa29242c189e56dfa436d6599",
       "version_major": 2,
       "version_minor": 0
      },
      "text/plain": [
       "RadioButtons(options=(('0', 1), ('1/2', 2), ('1', 3)), value=1)"
      ]
     },
     "metadata": {},
     "output_type": "display_data"
    },
    {
     "data": {
      "application/vnd.jupyter.widget-view+json": {
       "model_id": "3e40781cb87e476f8264dce0878a42eb",
       "version_major": 2,
       "version_minor": 0
      },
      "text/plain": [
       "Button(description='Check', style=ButtonStyle())"
      ]
     },
     "metadata": {},
     "output_type": "display_data"
    },
    {
     "data": {
      "application/vnd.jupyter.widget-view+json": {
       "model_id": "6f10f550a65b4565b18ea8c58f07d3c7",
       "version_major": 2,
       "version_minor": 0
      },
      "text/plain": [
       "Output()"
      ]
     },
     "metadata": {},
     "output_type": "display_data"
    }
   ],
   "source": [
    "q_3_2()"
   ]
  },
  {
   "cell_type": "markdown",
   "metadata": {},
   "source": [
    "##### Simple Dice Game:"
   ]
  },
  {
   "cell_type": "markdown",
   "metadata": {},
   "source": [
    "\n",
    "Suppose you roll a fair six-sided die. If it lands on 6, you win $10; otherwise, you lose $2. What is the expected value of this game? Should you play it?"
   ]
  },
  {
   "cell_type": "markdown",
   "metadata": {},
   "source": [
    "##### Solution"
   ]
  },
  {
   "cell_type": "markdown",
   "metadata": {},
   "source": [
    "\n",
    "$$\n",
    "\\begin{aligned}\n",
    "E[X] &= \\left(\\frac{1}{6} \\times 10\\right) + \\left(\\frac{5}{6} \\times (-2)\\right)\n",
    "\\\\\n",
    "E[X] &= \\left(\\frac{10}{6}\\right) + \\left(\\frac{-10}{6}\\right)\n",
    "\\\\\n",
    "E[X] &= \\frac{10 - 10}{6} = 0\n",
    "\\end{aligned}\n",
    "$$\n",
    "**Answer**: The expected value is $\\$0$. This means, on average, you neither gain nor lose money from playing this game.\n"
   ]
  },
  {
   "cell_type": "markdown",
   "metadata": {},
   "source": [
    "##### Two-Coin Game:"
   ]
  },
  {
   "cell_type": "markdown",
   "metadata": {},
   "source": [
    "\n",
    "You flip two fair coins. If both coins land on heads, you win $8. If one coin lands on heads and the other on tails, you win $4. If both coins land on tails, you lose $5. What is the expected value of playing this game?\n"
   ]
  },
  {
   "cell_type": "markdown",
   "metadata": {},
   "source": [
    "##### Solution:\n",
    "\n",
    "\n",
    "- Probability of two heads (HH): $\\frac{1}{4}$\n",
    "- Probability of one head and one tail (HT or TH): $\\frac{1}{2}$\n",
    "- Probability of two tails (TT): $\\frac{1}{4}$\n",
    "\n",
    "$$\n",
    "\\begin{aligned}\n",
    "E[X] &= \\left(\\frac{1}{4} \\times 8\\right) + \\left(\\frac{1}{2} \\times 4\\right) + \\left(\\frac{1}{4} \\times (-5)\\right)\n",
    "\\\\\n",
    "E[X] &= \\left(2\\right) + \\left(2\\right) + \\left(-1.25\\right)\n",
    "\\\\\n",
    "E[X] &= 2 + 2 - 1.25 = 2.75\n",
    "\n",
    "\\end{aligned}\n",
    "$$\n",
    "**Answer**: The expected value is $\\$2.75$. This means, on average, you gain $\\$2.75$ per game.\n"
   ]
  },
  {
   "cell_type": "markdown",
   "metadata": {},
   "source": [
    "##### Intermediate Problems"
   ]
  },
  {
   "cell_type": "markdown",
   "metadata": {},
   "source": [
    "**Custom Die Game:**\n",
    "Imagine a custom die with faces labeled 1, 2, 3, 4, 5, and 6. Each face has a different probability: \\(P(1) = 0.1\\), \\(P(2) = 0.2\\), \\(P(3) = 0.15\\), \\(P(4) = 0.25\\), \\(P(5) = 0.2\\), and \\(P(6) = 0.1\\). If the outcome of the die is 1, you win $2; for a 2, you win $4; for a 3, you win $6; for a 4, you lose $3; for a 5, you lose $7; and for a 6, you lose $5. What is the expected value of this game?"
   ]
  },
  {
   "cell_type": "markdown",
   "metadata": {},
   "source": [
    "##### Solution:\n",
    "$$\n",
    "\\begin{aligned}\n",
    "E[X] &= (0.1 \\times 2) + (0.2 \\times 4) + (0.15 \\times 6) + (0.25 \\times -3) + (0.2 \\times -7) + (0.1 \\times -5)\n",
    "\n",
    "\\\\\n",
    "E[X] &= (0.2) + (0.8) + (0.9) + (-0.75) + (-1.4) + (-0.5)\n",
    "\\\\\n",
    "\n",
    "E[X] &= 1.9 - 2.65 = -0.75\n",
    "\n",
    "\\end{aligned}\n",
    "$$\n",
    "**Answer**:The expected value is $-\\$0.75$. On average, you lose $75$ cents per roll.\n"
   ]
  },
  {
   "cell_type": "markdown",
   "metadata": {},
   "source": [
    "**Card Drawing Game:**\n",
    "You draw a card from a standard deck of 52 playing cards. If you draw an Ace, you win $15. If you draw a King, Queen, or Jack, you win $5. For any other card, you lose $3. What is the expected value of this game?"
   ]
  },
  {
   "cell_type": "markdown",
   "metadata": {},
   "source": [
    "##### Solution:\n",
    "\n",
    "- Probability of drawing an Ace: $\\frac{4}{52} = \\frac{1}{13}$\n",
    "- Probability of drawing a King, Queen, or Jack: $\\frac{12}{52} = \\frac{3}{13}$\n",
    "- Probability of drawing any other card: $\\frac{36}{52} = \\frac{9}{13}$\n",
    "\n",
    "$$\n",
    "\\begin{aligned}\n",
    "\n",
    "E[X] &= \\left(\\frac{1}{13} \\times 15\\right) + \\left(\\frac{3}{13} \\times 5\\right) + \\left(\\frac{9}{13} \\times (-3)\\right)\n",
    "\\\\\n",
    "\n",
    "\n",
    "E[X] &= \\left(\\frac{15}{13}\\right) + \\left(\\frac{15}{13}\\right) + \\left(\\frac{-27}{13}\\right)\n",
    "\\\\\n",
    "\n",
    "\n",
    "E[X] &= \\frac{15 + 15 - 27}{13} = \\frac{3}{13}\n",
    "\n",
    "\\\\\n",
    "E[X] &\\approx 0.23\n",
    "\n",
    "\\end{aligned}\n",
    "$$\n",
    "\n",
    "**Answer**: The expected value is approximately \\$0.23. On average, you gain 23 cents per draw.\n"
   ]
  },
  {
   "cell_type": "markdown",
   "metadata": {},
   "source": [
    "\n",
    "##### Advanced Extension Problems \n",
    "\n",
    "5. **Roulette Game:**\n",
    "   You bet $1 on a single number in a game of American Roulette. If the ball lands on your number, you win $35; otherwise, you lose your bet. There are 38 slots on an American Roulette wheel (numbers 1-36, 0, and 00). What is the expected value of this bet?\n",
    "\n",
    "6. **Insurance Policy:**\n",
    "   An insurance company sells a one-year term life insurance policy for $500 to a healthy 30-year-old. The policy pays $100,000 in case of death within the year. The probability of a healthy 30-year-old dying within a year is 0.001. What is the expected profit for the insurance company from selling this policy?\n",
    "\n",
    "7. **Stock Investment Scenario:**\n",
    "   Suppose you invest in a stock with three possible outcomes over a year: there is a 50% chance it will increase by 10%, a 30% chance it will decrease by 5%, and a 20% chance it will decrease by 15%. What is the expected value of the return on investment after one year?\n"
   ]
  },
  {
   "cell_type": "markdown",
   "metadata": {},
   "source": [
    "#### The Model"
   ]
  },
  {
   "cell_type": "markdown",
   "metadata": {},
   "source": [
    "Now that we've had some background on expected value, let's return to our model! Remeber out goal is to account for the inherent randomness associated with diffrent disaster occuring  \n",
    "\n",
    "Let $P^k$ be the probability of disaster $k$ and $t^k$ be the total travel time involved in disaster $k$ in the previous sections. Using our definition of expected value, this gives us\n",
    "\n",
    "$$ \\sum_k P^k \\cdot t^k$$\n",
    "\n",
    "Now you might notice that we have already written an equation for the total travel time for disaster $k$ ! Substituting this in we get\n",
    "\n",
    "$$\\sum_k P^k \\sum_i \\tau_{ij}\\cdot y^k_i$$\n",
    "\n",
    "So, you can see, in our case turning this problem into a stochastic optimization problem that can account for probability only involves one more variable. So, our final task right now is to minimize the time required to get supplies to a disaster given how likely each disaster is to occur:"
   ]
  },
  {
   "cell_type": "markdown",
   "metadata": {},
   "source": [
    "\n",
    "$$\n",
    "\\min_y \\sum_k P^k \\sum_i \\tau_{ij}\\cdot y^k_i\n",
    "\n",
    "$$"
   ]
  },
  {
   "cell_type": "markdown",
   "metadata": {},
   "source": [
    "And we can see the constraints are almost unchanged. The only added part is that all probabilities must sum to one, which is always the case:\n",
    "$$\n",
    "\\begin{aligned}\n",
    "\n",
    "\n",
    "\\text{s.t.}  & \\sum_{i} & y^k_{i}&=d^k & & \\hspace{.2cm} \\text{(total supplies sent must meet demand)}\\\\\n",
    "\n",
    "& & y^k_i       &\\leq x_i & \\forall i \\in I& \\hspace{.2cm}\\text{(you can't send more than a warehouse has)}\\\\\n",
    "\n",
    " &\\text{} & y^k_{i} &\\geq 0 &\\forall i \\in I& \\hspace{.2cm} \\text{(you can't send negative supplies)}\\\\\n",
    "\n",
    "& \\sum_k & P^k &=1 && \\hspace{.2cm} \\text{(All probabilities must sum to 1)}\\\\\n",
    "\n",
    "\n",
    "\\end{aligned}\n",
    "$$"
   ]
  },
  {
   "cell_type": "markdown",
   "metadata": {},
   "source": [
    "How do we calculate the probability though? Well, we have good long-term data on what disasters have affected which countries. For now, we can go through that data and calculate the probability of disaster k by counting how many times it has occurred and dividing by the number of total disasters i.e.\n",
    "\n",
    "$$ P^k = \\frac{k}{\\|K\\|}$$\n",
    "\n",
    "You may have noticed that every single disaster will have the same probability, or in other words, this will produce a uniform distribution. As a result, $P^k$ is a constant and can effectively be removed, so our new equation will give the exact same results as our old one. We'll talk about ways to potentially address this later on in the notebooks as an extension, but for the moment, the purpose of adding this is to show how easily the equation can be modified to be stochastic and to get users used to the idea."
   ]
  },
  {
   "cell_type": "markdown",
   "metadata": {},
   "source": [
    "So now that we have the equation, we can let the model go ahead and let Gurobi solve it for us"
   ]
  },
  {
   "cell_type": "markdown",
   "metadata": {},
   "source": [
    "We will start using ```with``` statements to accomidate the model's growing size and need for our License"
   ]
  },
  {
   "cell_type": "code",
   "execution_count": null,
   "metadata": {},
   "outputs": [
    {
     "name": "stdout",
     "output_type": "stream",
     "text": [
      "[14, 0, 11, 26, 6, 10, 19, 11, 16, 14, 17, 7, 16, 23, 8, 22]\n",
      "Gurobi Optimizer version 11.0.3 build v11.0.3rc0 (mac64[rosetta2] - Darwin 23.6.0 23G80)\n",
      "\n",
      "CPU model: Apple M1\n",
      "Thread count: 8 physical cores, 8 logical processors, using up to 8 threads\n",
      "\n",
      "Optimize a model with 1088 rows, 1024 columns and 2048 nonzeros\n",
      "Model fingerprint: 0xad7c1256\n",
      "Variable types: 0 continuous, 1024 integer (0 binary)\n",
      "Coefficient statistics:\n",
      "  Matrix range     [1e+00, 1e+00]\n",
      "  Objective range  [9e-02, 4e-01]\n",
      "  Bounds range     [0e+00, 0e+00]\n",
      "  RHS range        [3e+00, 4e+04]\n",
      "Presolve removed 1087 rows and 1011 columns\n",
      "Presolve time: 0.01s\n",
      "Presolved: 1 rows, 13 columns, 13 nonzeros\n",
      "Variable types: 0 continuous, 13 integer (0 binary)\n",
      "Found heuristic solution: objective 330077.56250\n",
      "Found heuristic solution: objective 329939.28125\n",
      "\n",
      "Root relaxation: objective 3.270432e+05, 1 iterations, 0.00 seconds (0.00 work units)\n",
      "\n",
      "    Nodes    |    Current Node    |     Objective Bounds      |     Work\n",
      " Expl Unexpl |  Obj  Depth IntInf | Incumbent    BestBd   Gap | It/Node Time\n",
      "\n",
      "*    0     0               0    327043.18750 327043.188  0.00%     -    0s\n",
      "\n",
      "Explored 1 nodes (1 simplex iterations) in 0.02 seconds (0.00 work units)\n",
      "Thread count was 8 (of 8 available processors)\n",
      "\n",
      "Solution count 3: 327043 329939 330078 \n",
      "\n",
      "Optimal solution found (tolerance 1.00e-04)\n",
      "Best objective 3.270431875000e+05, best bound 3.270431875000e+05, gap 0.0000%\n"
     ]
    }
   ],
   "source": [
    "demand, probs = get_probs(dataset)\n",
    "\n",
    "n = len(relevant_warehouses)\n",
    "m = len(demand)\n",
    "a = []\n",
    "\n",
    "# Create an array of driving times based on the df_distance DataFrame\n",
    "t = [int(row['drivingTime_hrs']) for i, row in df_distance.iterrows()]\n",
    "c=pd.DataFrame(t)\n",
    "print(t)\n",
    "\n",
    "# Amount to take per Warehouse\n",
    "y = model.addVars(m, n, vtype=GRB.INTEGER, name=\"Warehouse_Allocation\")\n",
    "\n",
    "# Add constraints to meet demand for each disaster scenario (k)\n",
    "for k in range(m):\n",
    "    # Demand constraints\n",
    "    model.addConstr(gp.quicksum(y[k, i] for i in range(n)) == demand[k], name=f\"Meet_Demand_K:{k}\")\n",
    "    \n",
    "    # Warehouse constraints\n",
    "    for i, supplies in enumerate(relevant_warehouses):\n",
    "        model.addConstr(y[k, i] <= supplies[2], name=f\"warehouse_endowment_K:{k}_I:{i}\")\n",
    "\n",
    "# Objective function to minimize the weighted driving time using T as a parameter\n",
    "objective = gp.quicksum(\n",
    "    probs[k] * gp.quicksum(t[i] * y[k, i] for i in range(n))\n",
    "    for k in range(m)\n",
    ")\n",
    "\n",
    "# Optimize model\n",
    "model.setObjective(objective, GRB.MINIMIZE)\n",
    "model.optimize()\n",
    "\n",
    "# Store results in the list 'a'\n",
    "for v in model.getVars():\n",
    "    a.append([v.VarName, v.X])"
   ]
  },
  {
   "cell_type": "code",
   "execution_count": 50,
   "metadata": {},
   "outputs": [
    {
     "data": {
      "text/html": [
       "<div>\n",
       "<style scoped>\n",
       "    .dataframe tbody tr th:only-of-type {\n",
       "        vertical-align: middle;\n",
       "    }\n",
       "\n",
       "    .dataframe tbody tr th {\n",
       "        vertical-align: top;\n",
       "    }\n",
       "\n",
       "    .dataframe thead th {\n",
       "        text-align: right;\n",
       "    }\n",
       "</style>\n",
       "<table border=\"1\" class=\"dataframe\">\n",
       "  <thead>\n",
       "    <tr style=\"text-align: right;\">\n",
       "      <th></th>\n",
       "      <th>0</th>\n",
       "      <th>1</th>\n",
       "    </tr>\n",
       "  </thead>\n",
       "  <tbody>\n",
       "    <tr>\n",
       "      <th>0</th>\n",
       "      <td>Warehouse_Allocation[0,0]</td>\n",
       "      <td>375.0</td>\n",
       "    </tr>\n",
       "    <tr>\n",
       "      <th>1</th>\n",
       "      <td>Warehouse_Allocation[0,1]</td>\n",
       "      <td>26.0</td>\n",
       "    </tr>\n",
       "    <tr>\n",
       "      <th>2</th>\n",
       "      <td>Warehouse_Allocation[0,2]</td>\n",
       "      <td>41.0</td>\n",
       "    </tr>\n",
       "    <tr>\n",
       "      <th>3</th>\n",
       "      <td>Warehouse_Allocation[0,3]</td>\n",
       "      <td>2322.0</td>\n",
       "    </tr>\n",
       "    <tr>\n",
       "      <th>4</th>\n",
       "      <td>Warehouse_Allocation[0,4]</td>\n",
       "      <td>9046.0</td>\n",
       "    </tr>\n",
       "    <tr>\n",
       "      <th>5</th>\n",
       "      <td>Warehouse_Allocation[0,5]</td>\n",
       "      <td>610.0</td>\n",
       "    </tr>\n",
       "    <tr>\n",
       "      <th>6</th>\n",
       "      <td>Warehouse_Allocation[0,6]</td>\n",
       "      <td>5201.0</td>\n",
       "    </tr>\n",
       "    <tr>\n",
       "      <th>7</th>\n",
       "      <td>Warehouse_Allocation[0,7]</td>\n",
       "      <td>6689.0</td>\n",
       "    </tr>\n",
       "    <tr>\n",
       "      <th>8</th>\n",
       "      <td>Warehouse_Allocation[0,8]</td>\n",
       "      <td>150.0</td>\n",
       "    </tr>\n",
       "    <tr>\n",
       "      <th>9</th>\n",
       "      <td>Warehouse_Allocation[0,9]</td>\n",
       "      <td>2460.0</td>\n",
       "    </tr>\n",
       "    <tr>\n",
       "      <th>10</th>\n",
       "      <td>Warehouse_Allocation[0,10]</td>\n",
       "      <td>4235.0</td>\n",
       "    </tr>\n",
       "    <tr>\n",
       "      <th>11</th>\n",
       "      <td>Warehouse_Allocation[0,11]</td>\n",
       "      <td>3.0</td>\n",
       "    </tr>\n",
       "    <tr>\n",
       "      <th>12</th>\n",
       "      <td>Warehouse_Allocation[0,12]</td>\n",
       "      <td>736.0</td>\n",
       "    </tr>\n",
       "    <tr>\n",
       "      <th>13</th>\n",
       "      <td>Warehouse_Allocation[0,13]</td>\n",
       "      <td>5700.0</td>\n",
       "    </tr>\n",
       "    <tr>\n",
       "      <th>14</th>\n",
       "      <td>Warehouse_Allocation[0,14]</td>\n",
       "      <td>1580.0</td>\n",
       "    </tr>\n",
       "  </tbody>\n",
       "</table>\n",
       "</div>"
      ],
      "text/plain": [
       "                             0       1\n",
       "0    Warehouse_Allocation[0,0]   375.0\n",
       "1    Warehouse_Allocation[0,1]    26.0\n",
       "2    Warehouse_Allocation[0,2]    41.0\n",
       "3    Warehouse_Allocation[0,3]  2322.0\n",
       "4    Warehouse_Allocation[0,4]  9046.0\n",
       "5    Warehouse_Allocation[0,5]   610.0\n",
       "6    Warehouse_Allocation[0,6]  5201.0\n",
       "7    Warehouse_Allocation[0,7]  6689.0\n",
       "8    Warehouse_Allocation[0,8]   150.0\n",
       "9    Warehouse_Allocation[0,9]  2460.0\n",
       "10  Warehouse_Allocation[0,10]  4235.0\n",
       "11  Warehouse_Allocation[0,11]     3.0\n",
       "12  Warehouse_Allocation[0,12]   736.0\n",
       "13  Warehouse_Allocation[0,13]  5700.0\n",
       "14  Warehouse_Allocation[0,14]  1580.0"
      ]
     },
     "execution_count": 50,
     "metadata": {},
     "output_type": "execute_result"
    }
   ],
   "source": [
    "pd.DataFrame(a).iloc[:15]"
   ]
  },
  {
   "cell_type": "code",
   "execution_count": null,
   "metadata": {},
   "outputs": [
    {
     "data": {
      "text/plain": [
       "40811"
      ]
     },
     "execution_count": 69,
     "metadata": {},
     "output_type": "execute_result"
    }
   ],
   "source": []
  },
  {
   "cell_type": "markdown",
   "metadata": {},
   "source": [
    "### 2.5 Data Science Extension"
   ]
  },
  {
   "cell_type": "markdown",
   "metadata": {},
   "source": [
    "We've seen how the equation uses the uniform distribution to solve the problem, but what if we knew something it didn't? What if knowing that climate change is increasingly energizing large storms, we decide the past hurricane impacts aren't representative of what's to come? In this section we want to prompt you to come up with predictive elements to improve our models. Feel free to use some of the ideas below or go in an entirely new direction!\n",
    "\n",
    "In this section, we encourage you to think creatively about enhancing predictive models for climate-related disasters. Consider how to incorporate novel data sources, feature engineering techniques, and model architectures to improve predictions. Below are some suggested approaches, but feel free to explore entirely new directions!\n",
    "\n",
    "Case Study Focus: Coastal Eastern African Nations\n",
    "\n",
    "Using the disaster impact data for coastal Eastern African nations, can you develop a model to predict how these impacts might escalate for Madagascar in the coming years? Consider not only the historical data but also factors such as changes in sea surface temperatures, shifting storm tracks, population growth along vulnerable coastlines, and evolving infrastructure resilience. Further, can you integrate this predictive model into an optimization framework to better allocate resources for disaster preparedness and response?\n",
    "\n",
    "Potential Approaches to Explore:\n",
    "1. Comparing Time Series Models: Traditional statistical time series models like ARIMAX (AutoRegressive Integrated Moving Average with Explanatory Variables) are commonly used to predict future values based on past data. How do these models compare with more advanced Recurrent Neural Network (RNN)-based approaches like Long Short-Term Memory (LSTM) networks or Gated Recurrent Units (GRUs) in capturing long-term dependencies, especially under non-stationary conditions induced by climate change?\n",
    "\n",
    "2.\tIncorporating Geospatial Data: Geospatial features, such as latitude, longitude, elevation, and proximity to bodies of water, can play a crucial role in predicting the impact of tropical storms. Can we encode geospatial information using techniques like convolutional neural networks (CNNs) for spatial feature extraction, or leverage more specialized models such as Geographical Weighted Regression (GWR) or Graph Neural Networks (GNNs) to account for spatial dependencies?\n",
    "\n",
    "3.\tIncorporating Climate Change Projections: Beyond just historical data, consider how future climate projections can be integrated into the model. Can we use downscaled climate model outputs or ensemble approaches to account for different climate scenarios? How would these scenarios affect the frequency and intensity of tropical storms affecting coastal Eastern African nations?\n",
    "\n",
    "4.\tFeature Engineering with Climate Indicators: Introduce climate change indicators as predictive features. For example, how do trends in sea surface temperatures (SSTs), El Niño-Southern Oscillation (ENSO) phases, or the Atlantic Multi-decadal Oscillation (AMO) correlate with storm intensification? Would incorporating these indicators as additional time series variables enhance predictive accuracy?\n",
    "\t\n",
    "5.\tHybrid and Ensemble Models: Can we leverage hybrid models that combine both statistical and deep learning approaches, or use ensemble methods that aggregate predictions from multiple models? For example, combining ARIMAX for short-term predictions with LSTM for capturing long-term trends may provide a more comprehensive forecasting tool.\n",
    "\n",
    "6.\tOptimization Integration: Once a reliable predictive model is established, how can it be integrated into an optimization framework for resource allocation? For example, can we build an optimization model that minimizes both the cost of disaster preparedness and the potential loss from future storm impacts?\n",
    "\n",
    "7.\tModel Explainability and Decision-Making: How can we ensure that the model is interpretable for decision-makers? Consider the use of techniques like SHAP (SHapley Additive exPlanations) values or LIME (Local Interpretable Model-agnostic Explanations) to explain which factors contribute most to the model’s predictions, helping policymakers make informed decisions.\n",
    "\n",
    "By combining predictive analytics with optimization, we can not only forecast future disaster impacts but also develop actionable strategies for minimizing those impacts. The goal is to make our models both more accurate and more useful in real-world applications, driving better outcomes for communities at risk.\n"
   ]
  },
  {
   "cell_type": "markdown",
   "metadata": {},
   "source": [
    "### 2.6 Processing the Results: 2-Stage SLP"
   ]
  },
  {
   "cell_type": "markdown",
   "metadata": {},
   "source": [
    "Great, now that we can solve for the time it takes to address every single disaster, we can finally answer the original question posed: how do we best allocate supplies to all the warehouses? The key here is to create a second optimization problem. Remember how in our constraints we included that you can't send more than the warehouse has? \n",
    "\n",
    "$$\n",
    "y^k_i       \\leq x_i  \\forall i \\in I \\hspace{.2cm}\\text{(you can't send more than a warehouse has)}\\\\\n",
    "$$\n",
    "\n",
    "So far, we've just been using the actual allocation we have at each warehouse for $x_i$. But what if those changes? Suddenly we would have an entirely new solution. So, if we say that the output of Gurobi (i.e. the allocations $y^k_i \\in Y$) is some function based on our starting amount warehouses ($X$ where $x_i\\in X$), then we can say\n",
    "\n",
    "$$Y=f(X)$$ \n",
    "\n",
    "And when we frame it this way, it becomes much more simple to solve! All we need to do is minimize the travel times $Y$. In other words, our problem becomes \n",
    "\n",
    "\n",
    "$$ \\min_{X} f(X) $$\n",
    "$$\\begin{aligned}\n",
    "\\text{s.t.}  & \\sum_{i} & x_i&=\\chi & & \\hspace{.2cm} \\text{(we allocate all supplies and no more)}\\\\\n",
    "\n",
    " && x_{i} &\\geq 0 &\\forall i \\in I& \\hspace{.2cm} \\text{(you can't allocate negative supplies)}\\\\\n",
    "\n",
    "\\end{aligned}$$\n",
    "\n",
    "Where $\\chi$ is the total amount of supplies we have in the country\n",
    "\n"
   ]
  },
  {
   "cell_type": "markdown",
   "metadata": {},
   "source": [
    "While this may initially look intimidating, it is one of the easiest changes to make to our current code. All we are doing is making a variable instead of a constraint and then constraining it. Let’s substitute back in our equation from the last section with the new constraints to see this firsthand. To denote a new decision variable (i.e. a variable that can be changed), all we need to do is add it under the minimization sign. This means minimizing with respect to $X$ and $Y$\n",
    "\n",
    "$$\n",
    "\\min_{X,Y} \\sum_k P^k \\sum_i \\tau_{ij}\\cdot y^k_i\n",
    "$$\n",
    "\n",
    "Then all we need to do is update the constraints. I've included the line to make it easier to see what's new as our list grows. It has no mathematical significance. \n",
    "So how do we Implement this in Gurobi?\n",
    "\n",
    "$$\n",
    "\\begin{aligned}\n",
    "\n",
    "\n",
    "\\text{s.t.}  & \\sum_{i} & y^k_{i}&=d^k & & \\hspace{.2cm} \\text{(total supplies sent must meet demand)}\\\\\n",
    "\n",
    "& & y^k_i       &\\leq x_i & \\forall i \\in I& \\hspace{.2cm}\\text{(you can't send more than a warehouse has)}\\\\\n",
    "\n",
    " &\\text{} & y^k_{i} &\\geq 0 &\\forall i \\in I& \\hspace{.2cm} \\text{(you can't send negative supplies)}\\\\\n",
    "\n",
    "& \\sum_k & P^k &=1 && \\hspace{.2cm} \\text{(All probabilities must sum to 1)}\\\\\n",
    "\n",
    "\\hline \\\\\n",
    "\n",
    "  & \\sum_{i} & x_i&=\\chi & & \\hspace{.2cm} \\text{(we allocate all supplies and no more)}\\\\\n",
    "\n",
    " && x_{i} &\\geq 0 &\\forall i \\in I& \\hspace{.2cm} \\text{(you can't allocate negative supplies)}\\\\\n",
    "\n",
    "\n",
    "\\end{aligned}\n",
    "$$\n",
    "\n"
   ]
  },
  {
   "cell_type": "markdown",
   "metadata": {},
   "source": [
    "So how do we Implment this in Gurobi?"
   ]
  },
  {
   "cell_type": "code",
   "execution_count": 70,
   "metadata": {},
   "outputs": [
    {
     "name": "stdout",
     "output_type": "stream",
     "text": [
      "Gurobi Optimizer version 11.0.3 build v11.0.3rc0 (mac64[rosetta2] - Darwin 23.6.0 23G80)\n",
      "\n",
      "CPU model: Apple M1\n",
      "Thread count: 8 physical cores, 8 logical processors, using up to 8 threads\n",
      "\n",
      "Optimize a model with 1153 rows, 1040 columns and 2192 nonzeros\n",
      "Model fingerprint: 0x0e8cfb4c\n",
      "Variable types: 0 continuous, 1040 integer (0 binary)\n",
      "Coefficient statistics:\n",
      "  Matrix range     [1e+00, 1e+00]\n",
      "  Objective range  [9e-02, 4e-01]\n",
      "  Bounds range     [0e+00, 0e+00]\n",
      "  RHS range        [3e+00, 4e+04]\n",
      "Presolve removed 1152 rows and 1026 columns\n",
      "Presolve time: 0.01s\n",
      "Presolved: 1 rows, 14 columns, 14 nonzeros\n",
      "Variable types: 0 continuous, 14 integer (0 binary)\n",
      "Found heuristic solution: objective 330422.47266\n",
      "\n",
      "Root relaxation: objective 3.274030e+05, 1 iterations, 0.00 seconds (0.00 work units)\n",
      "\n",
      "    Nodes    |    Current Node    |     Objective Bounds      |     Work\n",
      " Expl Unexpl |  Obj  Depth IntInf | Incumbent    BestBd   Gap | It/Node Time\n",
      "\n",
      "*    0     0               0    327403.00000 327403.000  0.00%     -    0s\n",
      "\n",
      "Explored 1 nodes (1 simplex iterations) in 0.03 seconds (0.00 work units)\n",
      "Thread count was 8 (of 8 available processors)\n",
      "\n",
      "Solution count 2: 327403 330422 \n",
      "\n",
      "Optimal solution found (tolerance 1.00e-04)\n",
      "Best objective 3.274030000000e+05, best bound 3.274030000000e+05, gap 0.0000%\n"
     ]
    }
   ],
   "source": [
    "model = gp.Model(\"full_allocation\")\n",
    "\n",
    "n = len(relevant_warehouses)\n",
    "m = len(demand)\n",
    "\n",
    "# Create an array of driving times based on the df_distance DataFrame\n",
    "t = df_distance.drivingTime_hrs\n",
    "\n",
    "# Amount to take per Warehouse\n",
    "y = model.addVars(m, n, vtype=GRB.INTEGER, name=\"Single_Warehouse_Allocation\")\n",
    "\n",
    "# National Allocation\n",
    "X = model.addVars(n, vtype=GRB.INTEGER, name=\"National_Allocation\")\n",
    "\n",
    "# Total national endowment constraint\n",
    "model.addConstr(gp.quicksum(X[i] for i in range(n)) == 40811, name=\"Total_National_Endowment\")\n",
    "\n",
    "for k in range(m):\n",
    "    model.addConstr(y[k, i] <= X[i])\n",
    "\n",
    "# Demand and warehouse constraints for each scenario\n",
    "for k in range(m):\n",
    "    model.addConstr(gp.quicksum(y[k, i] for i in range(n)) == demand[k], name=f\"Meet_Demand_K:{k}\")\n",
    "    for i, supplies in enumerate(relevant_warehouses):\n",
    "        model.addConstr(y[k, i] <= supplies[2], name=f\"warehouse_endowment_K:{k}_I:{i}\")\n",
    "\n",
    "# Objective function to minimize the weighted driving time using T as a parameter\n",
    "objective = gp.quicksum(\n",
    "    probs[k] * gp.quicksum(t[i] * y[k, i] for i in range(n))\n",
    "    for k in range(m)\n",
    ")\n",
    "\n",
    "# Optimize model\n",
    "model.setObjective(objective, GRB.MINIMIZE)\n",
    "model.optimize()"
   ]
  },
  {
   "cell_type": "markdown",
   "metadata": {},
   "source": [
    "### 2.7 A Few Final Tidbits"
   ]
  },
  {
   "cell_type": "markdown",
   "metadata": {},
   "source": [
    "Now that we have our overall framework, we can extend it fairly easily to better model real-life scenarios. Let's look at two final pieces of the puzzle that ESUPS considers in their model:"
   ]
  },
  {
   "cell_type": "markdown",
   "metadata": {},
   "source": [
    "**Cost**\n",
    "\n",
    "Along with how long it takes to get items to a disaster relief site, it's also important to consider the cost to accomplish it. It might be a few hours faster to charter a jet to deliver blankets in the aftermath of a disaster, however, if it is 100x more expensive than by truck, that may constrain the organization from buying more blankets, chartering more trucks, or making it difficult to resupply for future disasters. So just as we solve for ways to minimize time, it can be important for firms with limited resources to make sure their money is being used to do the most good it can.\n",
    "\n",
    "So how do we do this? It's fairly simple. Our time matrix, which we've been using to show how close or far buildings are from the disaster relief site, is just a set of predefined weights/discounts. So, if we change the numbers to reflect the cost of transit, then suddenly we're solving a cost-minimization problem! In fact, the substitution is so one-to-one, that besides switching $\\tau_{ij}$ for $c_{ij}$, we don't have to change the equation."
   ]
  },
  {
   "cell_type": "markdown",
   "metadata": {},
   "source": [
    "**Travel Mode**\n",
    "\n",
    "The second additional facet considered in our real-life model that we haven't encountered yet is transportation mode. We alluded to it a little in the cost section, but often there is the option to fly or ship goods into a region, which can be especially useful when far away or the roads are clogged or otherwise unusable (such is often the case after a disaster).\n",
    "\n",
    "So how do we implement this? Well let's take a look back at $y_i^k$, our variable which says how many goods to send from warehouse $i$ to disaster $k$. All we want to do is reflect and updated description: how many goods to send from warehouse $i$ to disaster $k$ via mode $r$. This can easily be represented as $y_{ir}^k$, let's explain what's happened. Before is $y$ was an array of length $K$ with each index holding sub array of length $I$ (which we could also write as size $K \\times I$), now each index in our subarrays also have an array of length $3$ to represent how much is sent via truck, plane, or boat. So our final array is of dimensions $K \\times I \\times R $. This may seem intimidating at first, but remember, adding a dimension just means adding one more nested for loop!\n",
    "\n",
    "Let's look at how we would implement this. Remember, from a math point of view, all we've done is say $y_i^k$ can be broken down into $3$ modes instead of 1. So, it's rewritten as"
   ]
  },
  {
   "cell_type": "markdown",
   "metadata": {},
   "source": [
    "\n",
    "$$\n",
    "\\min_{X,Y} \\sum_k P^k \\sum_i \\sum_r \\tau_{irj}\\cdot y^k_{ir}\n",
    "$$\n",
    "\n",
    "\n",
    "Then all we need to do is update the constraints. I've included the line to make it easier to see what's new as our list grows. It has no mathematical significance. \n",
    "$$\n",
    "\\begin{aligned}\n",
    "\n",
    "\n",
    "\\text{s.t.}  & \\sum_{i}\\sum_{r} & y^k_{ir}&=d^k & & \\hspace{.2cm} \\text{(total supplies sent must meet demand)}\\\\\n",
    "\n",
    "& \\sum_{r}  & y^k_{ir}       &\\leq x_i & \\forall i \\in I& \\hspace{.2cm}\\text{(you can't send more than a warehouse has)}\\\\\n",
    "\n",
    " &\\text{} & y^k_{ir} &\\geq 0 &\\forall r\\in R, i \\in I& \\hspace{.2cm} \\text{(you can't send negative supplies)}\\\\\n",
    "\n",
    "& \\sum_k & P^k &=1 && \\hspace{.2cm} \\text{(All probabilities must sum to 1)}\\\\\n",
    "\n",
    "\n",
    "  & \\sum_{i} & x_i&=\\chi & & \\hspace{.2cm} \\text{(we allocate all supplies and no more)}\\\\\n",
    "\n",
    " && x_{i} &\\geq 0 &\\forall i \\in I& \\hspace{.2cm} \\text{(you can't allocate negative supplies)}\\\\\n",
    "\n",
    "\n",
    "\\end{aligned}\n",
    "$$"
   ]
  },
  {
   "cell_type": "markdown",
   "metadata": {},
   "source": [
    "We've added a few more sums here, but remember, in math, a sum is just a for loop. $\\sum_r$ is the equivalent to `for r in R:`. So how would we implement it in the format we've been using so far? This is going to be left as an open-ended exercise to the reader! If you get stuck, you can reference the production solver we'll be exploring below, which includes the mode of travel but is set up in a different approach than we've been using so far!"
   ]
  },
  {
   "cell_type": "markdown",
   "metadata": {},
   "source": [
    "#### Open-Ended Implementation"
   ]
  },
  {
   "cell_type": "code",
   "execution_count": 168,
   "metadata": {},
   "outputs": [],
   "source": [
    "#Write your code here"
   ]
  },
  {
   "cell_type": "markdown",
   "metadata": {},
   "source": [
    "### 2.7 Interpreting the Solution "
   ]
  },
  {
   "cell_type": "markdown",
   "metadata": {},
   "source": [
    "So let's look at how much slower our real life allocations are in comparison to the optimal."
   ]
  },
  {
   "cell_type": "markdown",
   "metadata": {},
   "source": [
    "### Enhancing System Performance with the Balance Metric\n",
    "\n",
    "In humanitarian logistics, the efficiency of inventory allocation directly impacts the ability to respond swiftly and cost-effectively to disasters. The **Balance Metric** $(D)$ is a critical tool developed to evaluate the alignment of current inventory distribution with an optimal allocation. This metric is particularly valuable in contexts where multiple organizations independently manage inventory across various depots, without a centralized coordination mechanism.\n",
    "\n",
    "#### Definition and Calculation of the Balance Metric\n",
    "\n",
    "The balance metric $(D)$ is defined as the ratio between the actual objective value (either cost or time) of the current inventory allocation $V(X)$ and the optimal objective value $V(A')$ given the same overall capacity:\n",
    "\n",
    "$$ D = \\frac{V(A)}{V(A')}  $$\n",
    "\n",
    "Here:\n",
    "-  $V(A)$: Represents the current system-wide cost or time to meet demand based on the existing inventory allocation \\(X\\).\n",
    "-  $V(A')$: Represents the minimized cost or time if the inventory were optimally distributed across all depots.\n",
    "\n",
    "#### Interpretation of the Balance Metric\n",
    "\n",
    "1. **Optimal Inventory Allocation**:\n",
    "   The optimal value of $D$ is 1. This occurs when the current allocation perfectly aligns with the optimal allocation, meaning no further reallocation could reduce costs or response times.\n",
    "\n",
    "2. **Identifying Imbalances**:\n",
    "   When $D > 1$, the system is considered \"out-of-balance.\" A value of 1.2, for example, implies that the current allocation incurs 20% higher costs or longer response times compared to an optimal arrangement. This indicates a potential for improvement by reallocating resources more effectively.\n",
    "\n",
    "3. **Guiding System Improvements**:\n",
    "   The balance metric is not only an indicator of inefficiency but also a guide for decision-making. By identifying locations or items with the highest imbalance, decision-makers can prioritize inventory reallocations that would yield the most significant improvements in terms of cost savings or faster response times.\n",
    "\n",
    "#### Practical Applications in Humanitarian Logistics\n",
    "\n",
    "The balance metric offers several practical applications for optimizing humanitarian response efforts:\n",
    "\n",
    "- **Strategic Reallocation of Resources**:\n",
    "  Organizations can use the balance metric to identify under-stocked or over-stocked depots and adjust inventory levels accordingly. This strategic reallocation can significantly enhance response times or reduce costs, especially in multi-organizational contexts where coordination is limited.\n",
    "\n",
    "- **Sensitivity to Network Changes**:\n",
    "  The balance metric is responsive to changes in the logistics network. For example, if a new depot is added in a high-risk area and remains under-stocked, the balance metric will reflect this imbalance, prompting an assessment of whether inventory should be redistributed to better leverage the new depot.\n",
    "\n",
    "- **Decision-Making in Real-Time Operations**:\n",
    "  By continuously monitoring the balance metric as part of a real-time dashboard, operational managers can be alerted to changes that may impact overall system performance. This enables them to make data-driven decisions quickly, improving the overall resilience and responsiveness of the humanitarian supply chain.\n",
    "\n",
    "#### Limitations and Considerations\n",
    "\n",
    "While the balance metric provides valuable insights into inventory allocation efficiency, it is important to consider its limitations:\n",
    "\n",
    "- **Impact of Extreme Events**:\n",
    "  The balance metric can be influenced by extreme scenarios, such as very large-scale disasters that significantly impact the calculated demand. As a result, it should be interpreted alongside other metrics, such as the fraction of demand served ($g$) or the weighted fraction of disasters completely served ($d$), to provide a more comprehensive picture of system performance.\n",
    "\n",
    "- **Dependence on Data Quality and Model Assumptions**:\n",
    "  The accuracy of the balance metric depends on the quality of input data and the assumptions made in the model. Ensuring robust and accurate data collection processes and regularly updating model parameters to reflect real-world conditions are essential for maintaining the reliability of the metric.\n",
    "\n",
    "#### Conclusion\n",
    "\n",
    "The balance metric $D$ offers a powerful tool for evaluating and improving the efficiency of inventory allocation in humanitarian logistics. By identifying imbalances and guiding strategic reallocation decisions, this metric can help organizations optimize their response efforts, ensuring that resources are used most effectively to meet the needs of affected populations during disasters."
   ]
  },
  {
   "cell_type": "markdown",
   "metadata": {},
   "source": [
    "<a id='End'></a>"
   ]
  }
 ],
 "metadata": {
  "kernelspec": {
   "display_name": "gurobi_ml",
   "language": "python",
   "name": "python3"
  },
  "language_info": {
   "codemirror_mode": {
    "name": "ipython",
    "version": 3
   },
   "file_extension": ".py",
   "mimetype": "text/x-python",
   "name": "python",
   "nbconvert_exporter": "python",
   "pygments_lexer": "ipython3",
   "version": "3.11.6"
  }
 },
 "nbformat": 4,
 "nbformat_minor": 4
}
