{
 "cells": [
  {
   "cell_type": "markdown",
   "id": "e1da5b27",
   "metadata": {},
   "source": [
    "## 3.B More On Expected Value\n",
    "\n",
    "If you haven't seen expected value before or if it's just a been a while and you'd like a refresher, try some of the practice problems below!\n",
    "When we solve expected value for discrete outcomes, we take the value/outcome/payoff of each possible event and discount it by the probability that it actually occurs. So it follows the form\n",
    "\n",
    "$$\n",
    "E[X]=p_1(x_1)+p_2(x_2)+ ... + p_n(x_n)\n",
    "$$\n",
    "To simplify this notation we typically write this as a series:\n",
    "\n",
    "$$\n",
    "E[X]=\\sum_{i=1}^{n} p_i \\cdot x_i\n",
    "$$\n",
    "\n",
    "Try some of the problems below to get a better feel for it!"
   ]
  },
  {
   "cell_type": "markdown",
   "id": "6fe1e499",
   "metadata": {},
   "source": [
    "\n",
    "### Starter Problems\n",
    "\n",
    "#### Coin Flip"
   ]
  },
  {
   "cell_type": "markdown",
   "id": "86d6016e",
   "metadata": {},
   "source": [
    "Suppose we play a coin flipping game. Every time we flip the coin and it lands on heads, you get a dollar, and every time it lands on tails, you have to pay a dollar. How much are you expected to make or lose when playing this game?"
   ]
  },
  {
   "cell_type": "markdown",
   "id": "e46124e1",
   "metadata": {},
   "source": [
    "##### Coin Flip Varient: "
   ]
  },
  {
   "cell_type": "markdown",
   "id": "8d131814",
   "metadata": {},
   "source": [
    "Now, let's change the game a little, say you now get 5 paid dollars when the coin lands on heads and only have to pay 3 dollars when it lands on tails. Would you play? How much are you expected to make or lose when playing this game?"
   ]
  },
  {
   "cell_type": "markdown",
   "id": "6fdc1d37",
   "metadata": {},
   "source": [
    "##### Simple Dice Game:"
   ]
  },
  {
   "cell_type": "markdown",
   "id": "9204d0eb",
   "metadata": {},
   "source": [
    "\n",
    "Suppose you roll a fair six-sided die. If it lands on 6, you win $10; otherwise, you lose $2. What is the expected value of this game? Should you play it?"
   ]
  },
  {
   "cell_type": "markdown",
   "id": "55b5a48e",
   "metadata": {},
   "source": [
    "##### Solution"
   ]
  },
  {
   "cell_type": "markdown",
   "id": "5ceec750",
   "metadata": {},
   "source": [
    "\n",
    "$$\n",
    "\\begin{aligned}\n",
    "E[X] &= \\left(\\frac{1}{6} \\times 10\\right) + \\left(\\frac{5}{6} \\times (-2)\\right)\n",
    "\\\\\n",
    "E[X] &= \\left(\\frac{10}{6}\\right) + \\left(\\frac{-10}{6}\\right)\n",
    "\\\\\n",
    "E[X] &= \\frac{10 - 10}{6} = 0\n",
    "\\end{aligned}\n",
    "$$\n",
    "**Answer**: The expected value is $\\$0$. This means, on average, you neither gain nor lose money from playing this game.\n"
   ]
  },
  {
   "cell_type": "markdown",
   "id": "71969ef5",
   "metadata": {},
   "source": [
    "##### Two-Coin Game:"
   ]
  },
  {
   "cell_type": "markdown",
   "id": "001f2824",
   "metadata": {},
   "source": [
    "\n",
    "You flip two fair coins. If both coins land on heads, you win $8. If one coin lands on heads and the other on tails, you win $4. If both coins land on tails, you lose $5. What is the expected value of playing this game?\n"
   ]
  },
  {
   "cell_type": "markdown",
   "id": "3066c960",
   "metadata": {},
   "source": [
    "##### Solution:\n",
    "\n",
    "\n",
    "- Probability of two heads (HH): $\\frac{1}{4}$\n",
    "- Probability of one head and one tail (HT or TH): $\\frac{1}{2}$\n",
    "- Probability of two tails (TT): $\\frac{1}{4}$\n",
    "\n",
    "$$\n",
    "\\begin{aligned}\n",
    "E[X] &= \\left(\\frac{1}{4} \\times 8\\right) + \\left(\\frac{1}{2} \\times 4\\right) + \\left(\\frac{1}{4} \\times (-5)\\right)\n",
    "\\\\\n",
    "E[X] &= \\left(2\\right) + \\left(2\\right) + \\left(-1.25\\right)\n",
    "\\\\\n",
    "E[X] &= 2 + 2 - 1.25 = 2.75\n",
    "\n",
    "\\end{aligned}\n",
    "$$\n",
    "**Answer**: The expected value is $\\$2.75$. This means, on average, you gain $\\$2.75$ per game.\n"
   ]
  },
  {
   "cell_type": "markdown",
   "id": "c4a1bbaa",
   "metadata": {},
   "source": [
    "##### Intermediate Problems"
   ]
  },
  {
   "cell_type": "markdown",
   "id": "14cea585",
   "metadata": {},
   "source": [
    "**Custom Die Game:**\n",
    "Imagine a custom die with faces labeled 1, 2, 3, 4, 5, and 6. Each face has a different probability: \\(P(1) = 0.1\\), \\(P(2) = 0.2\\), \\(P(3) = 0.15\\), \\(P(4) = 0.25\\), \\(P(5) = 0.2\\), and \\(P(6) = 0.1\\). If the outcome of the die is 1, you win $2; for a 2, you win $4; for a 3, you win $6; for a 4, you lose $3; for a 5, you lose $7; and for a 6, you lose $5. What is the expected value of this game?"
   ]
  },
  {
   "cell_type": "markdown",
   "id": "52251b07",
   "metadata": {},
   "source": [
    "##### Solution:\n",
    "$$\n",
    "\\begin{aligned}\n",
    "E[X] &= (0.1 \\times 2) + (0.2 \\times 4) + (0.15 \\times 6) + (0.25 \\times -3) + (0.2 \\times -7) + (0.1 \\times -5)\n",
    "\n",
    "\\\\\n",
    "E[X] &= (0.2) + (0.8) + (0.9) + (-0.75) + (-1.4) + (-0.5)\n",
    "\\\\\n",
    "\n",
    "E[X] &= 1.9 - 2.65 = -0.75\n",
    "\n",
    "\\end{aligned}\n",
    "$$\n",
    "**Answer**:The expected value is $-\\$0.75$. On average, you lose $75$ cents per roll.\n"
   ]
  },
  {
   "cell_type": "markdown",
   "id": "cb38454b",
   "metadata": {},
   "source": [
    "**Card Drawing Game:**\n",
    "You draw a card from a standard deck of 52 playing cards. If you draw an Ace, you win $15. If you draw a King, Queen, or Jack, you win $5. For any other card, you lose $3. What is the expected value of this game?"
   ]
  },
  {
   "cell_type": "markdown",
   "id": "af8f97d3",
   "metadata": {},
   "source": [
    "##### Solution:\n",
    "\n",
    "- Probability of drawing an Ace: $\\frac{4}{52} = \\frac{1}{13}$\n",
    "- Probability of drawing a King, Queen, or Jack: $\\frac{12}{52} = \\frac{3}{13}$\n",
    "- Probability of drawing any other card: $\\frac{36}{52} = \\frac{9}{13}$\n",
    "\n",
    "$$\n",
    "\\begin{aligned}\n",
    "\n",
    "E[X] &= \\left(\\frac{1}{13} \\times 15\\right) + \\left(\\frac{3}{13} \\times 5\\right) + \\left(\\frac{9}{13} \\times (-3)\\right)\n",
    "\\\\\n",
    "\n",
    "\n",
    "E[X] &= \\left(\\frac{15}{13}\\right) + \\left(\\frac{15}{13}\\right) + \\left(\\frac{-27}{13}\\right)\n",
    "\\\\\n",
    "\n",
    "\n",
    "E[X] &= \\frac{15 + 15 - 27}{13} = \\frac{3}{13}\n",
    "\n",
    "\\\\\n",
    "E[X] &\\approx 0.23\n",
    "\n",
    "\\end{aligned}\n",
    "$$\n",
    "\n",
    "**Answer**: The expected value is approximately \\$0.23. On average, you gain 23 cents per draw.\n"
   ]
  },
  {
   "cell_type": "markdown",
   "id": "9465d853",
   "metadata": {},
   "source": [
    "\n",
    "##### Advanced Extension Problems \n",
    "\n",
    "5. **Roulette Game:**\n",
    "   You bet $1 on a single number in a game of American Roulette. If the ball lands on your number, you win $35; otherwise, you lose your bet. There are 38 slots on an American Roulette wheel (numbers 1-36, 0, and 00). What is the expected value of this bet?\n",
    "\n",
    "6. **Insurance Policy:**\n",
    "   An insurance company sells a one-year term life insurance policy for $500 to a healthy 30-year-old. The policy pays $100,000 in case of death within the year. The probability of a healthy 30-year-old dying within a year is 0.001. What is the expected profit for the insurance company from selling this policy?\n",
    "\n",
    "7. **Stock Investment Scenario:**\n",
    "   Suppose you invest in a stock with three possible outcomes over a year: there is a 50% chance it will increase by 10%, a 30% chance it will decrease by 5%, and a 20% chance it will decrease by 15%. What is the expected value of the return on investment after one year?\n"
   ]
  }
 ],
 "metadata": {
  "kernelspec": {
   "display_name": "gurobi_ml",
   "language": "python",
   "name": "python3"
  },
  "language_info": {
   "name": "python",
   "version": "3.11.6"
  }
 },
 "nbformat": 4,
 "nbformat_minor": 5
}
